{
    "metadata": {
        "kernelspec": {
            "name": "SQL",
            "display_name": "SQL",
            "language": "sql"
        },
        "language_info": {
            "name": "sql",
            "version": ""
        }
    },
    "nbformat_minor": 2,
    "nbformat": 4,
    "cells": [
        {
            "cell_type": "markdown",
            "source": [
                "## **Extract key phrases**"
            ],
            "metadata": {
                "azdata_cell_guid": "f6b13cfc-ffd1-453a-935d-bdf6c94f3430"
            },
            "attachments": {}
        },
        {
            "cell_type": "code",
            "source": [
                "ALTER TABLE listings ADD COLUMN key_phrases text[];\r\n",
                "\r\n",
                "UPDATE listings\r\n",
                "SET key_phrases = azure_cognitive.extract_key_phrases(description)\r\n",
                "FROM (SELECT id FROM listings WHERE key_phrases IS NULL ORDER BY id LIMIT 100) subset\r\n",
                "WHERE listings.id = subset.id;\r\n",
                "\r\n",
                "SELECT id, name FROM listings WHERE 'closet' = ANY(key_phrases);"
            ],
            "metadata": {
                "azdata_cell_guid": "f0b6784a-b0d5-4ee0-9065-7e22eb5d6891",
                "language": "sql"
            },
            "outputs": [
                {
                    "output_type": "display_data",
                    "data": {
                        "text/html": "ALTER TABLE"
                    },
                    "metadata": {}
                },
                {
                    "output_type": "display_data",
                    "data": {
                        "text/html": "UPDATE 50"
                    },
                    "metadata": {}
                },
                {
                    "output_type": "display_data",
                    "data": {
                        "text/html": "(6 row(s) affected)"
                    },
                    "metadata": {}
                },
                {
                    "output_type": "display_data",
                    "data": {
                        "text/html": "Total execution time: 00:00:08.686"
                    },
                    "metadata": {}
                },
                {
                    "output_type": "execute_result",
                    "execution_count": 1,
                    "data": {
                        "application/vnd.dataresource+json": {
                            "schema": {
                                "fields": [
                                    {
                                        "name": "id"
                                    },
                                    {
                                        "name": "name"
                                    }
                                ]
                            },
                            "data": [
                                {
                                    "id": "3",
                                    "name": "Open Airy Condo"
                                },
                                {
                                    "id": "11",
                                    "name": "Ballard private room"
                                },
                                {
                                    "id": "17",
                                    "name": "Private bed/bath"
                                },
                                {
                                    "id": "38",
                                    "name": "Cozy 1BD"
                                },
                                {
                                    "id": "39",
                                    "name": "2 Private Rooms"
                                },
                                {
                                    "id": "5",
                                    "name": "One bedroom with Lounge"
                                }
                            ]
                        },
                        "text/html": "<table><tr><th>id</th><th>name</th></tr><tr><td>3</td><td>Open Airy Condo</td></tr><tr><td>11</td><td>Ballard private room</td></tr><tr><td>17</td><td>Private bed/bath</td></tr><tr><td>38</td><td>Cozy 1BD</td></tr><tr><td>39</td><td>2 Private Rooms</td></tr><tr><td>5</td><td>One bedroom with Lounge</td></tr></table>"
                    },
                    "metadata": {}
                }
            ],
            "execution_count": 1
        },
        {
            "cell_type": "markdown",
            "source": [
                "## **Named entity recognition**"
            ],
            "metadata": {
                "azdata_cell_guid": "13d36006-e229-4efb-af15-d144b3f7b5d6"
            },
            "attachments": {}
        },
        {
            "cell_type": "code",
            "source": [
                "SELECT azure_cognitive.recognize_entities('Microsoft released Azure Cognitive Services in Seattle in 2021.', 'en-us')"
            ],
            "metadata": {
                "azdata_cell_guid": "132e88a6-eacd-4d0f-9130-2e43752bb9c6",
                "language": "sql"
            },
            "outputs": [
                {
                    "output_type": "display_data",
                    "data": {
                        "text/html": "(1 row(s) affected)"
                    },
                    "metadata": {}
                },
                {
                    "output_type": "display_data",
                    "data": {
                        "text/html": "Total execution time: 00:00:00.314"
                    },
                    "metadata": {}
                },
                {
                    "output_type": "execute_result",
                    "execution_count": 11,
                    "data": {
                        "application/vnd.dataresource+json": {
                            "schema": {
                                "fields": [
                                    {
                                        "name": "recognize_entities"
                                    }
                                ]
                            },
                            "data": [
                                {
                                    "recognize_entities": "{\"(Microsoft,Organization,\\\"\\\",1)\",\"(\\\"Azure Cognitive Services\\\",Product,ComputingProduct,1)\",\"(Seattle,Location,City,1)\",\"(2021,DateTime,DateRange,1)\"}"
                                }
                            ]
                        },
                        "text/html": "<table><tr><th>recognize_entities</th></tr><tr><td>{&quot;(Microsoft,Organization,\\&quot;\\&quot;,1)&quot;,&quot;(\\&quot;Azure Cognitive Services\\&quot;,Product,ComputingProduct,1)&quot;,&quot;(Seattle,Location,City,1)&quot;,&quot;(2021,DateTime,DateRange,1)&quot;}</td></tr></table>"
                    },
                    "metadata": {}
                }
            ],
            "execution_count": 11
        },
        {
            "cell_type": "code",
            "source": [
                "ALTER TABLE listings ADD COLUMN entities azure_cognitive.entity[];\r\n",
                "\r\n",
                "UPDATE listings\r\n",
                "SET entities = azure_cognitive.recognize_entities(description, 'en-us') \r\n",
                "FROM (SELECT id FROM listings WHERE entities IS NOT NULL ORDER BY id LIMIT 500) as subset\r\n",
                "WHERE listings.id = subset.id;\r\n",
                "\r\n",
                "SELECT id, name\r\n",
                "FROM listings, unnest(listings.entities) AS e\r\n",
                "WHERE e.text LIKE '%basements%'\r\n",
                "LIMIT 10;"
            ],
            "metadata": {
                "azdata_cell_guid": "cea28c02-9cad-41f5-9a74-010e459878d8",
                "language": "sql"
            },
            "outputs": [
                {
                    "output_type": "display_data",
                    "data": {
                        "text/html": "UPDATE 50"
                    },
                    "metadata": {}
                },
                {
                    "output_type": "display_data",
                    "data": {
                        "text/html": "(1 row(s) affected)"
                    },
                    "metadata": {}
                },
                {
                    "output_type": "display_data",
                    "data": {
                        "text/html": "Total execution time: 00:00:08.081"
                    },
                    "metadata": {}
                },
                {
                    "output_type": "execute_result",
                    "execution_count": 15,
                    "data": {
                        "application/vnd.dataresource+json": {
                            "schema": {
                                "fields": [
                                    {
                                        "name": "id"
                                    },
                                    {
                                        "name": "name"
                                    }
                                ]
                            },
                            "data": [
                                {
                                    "id": "5",
                                    "name": "One bedroom with Lounge"
                                }
                            ]
                        },
                        "text/html": "<table><tr><th>id</th><th>name</th></tr><tr><td>5</td><td>One bedroom with Lounge</td></tr></table>"
                    },
                    "metadata": {}
                }
            ],
            "execution_count": 15
        },
        {
            "cell_type": "code",
            "source": [
                "SELECT id, name FROM listings WHERE 'closet' = ANY(key_phrases);"
            ],
            "metadata": {
                "language": "sql",
                "azdata_cell_guid": "02662edf-87d0-4cb3-b164-bf2b922dacfe"
            },
            "outputs": [
                {
                    "output_type": "display_data",
                    "data": {
                        "text/html": "(6 row(s) affected)"
                    },
                    "metadata": {}
                },
                {
                    "output_type": "display_data",
                    "data": {
                        "text/html": "Total execution time: 00:00:00.248"
                    },
                    "metadata": {}
                },
                {
                    "output_type": "execute_result",
                    "execution_count": 17,
                    "data": {
                        "application/vnd.dataresource+json": {
                            "schema": {
                                "fields": [
                                    {
                                        "name": "id"
                                    },
                                    {
                                        "name": "name"
                                    }
                                ]
                            },
                            "data": [
                                {
                                    "id": "3",
                                    "name": "Open Airy Condo"
                                },
                                {
                                    "id": "17",
                                    "name": "Private bed/bath"
                                },
                                {
                                    "id": "38",
                                    "name": "Cozy 1BD"
                                },
                                {
                                    "id": "11",
                                    "name": "Ballard private room"
                                },
                                {
                                    "id": "39",
                                    "name": "2 Private Rooms"
                                },
                                {
                                    "id": "5",
                                    "name": "One bedroom with Lounge"
                                }
                            ]
                        },
                        "text/html": "<table><tr><th>id</th><th>name</th></tr><tr><td>3</td><td>Open Airy Condo</td></tr><tr><td>17</td><td>Private bed/bath</td></tr><tr><td>38</td><td>Cozy 1BD</td></tr><tr><td>11</td><td>Ballard private room</td></tr><tr><td>39</td><td>2 Private Rooms</td></tr><tr><td>5</td><td>One bedroom with Lounge</td></tr></table>"
                    },
                    "metadata": {}
                }
            ],
            "execution_count": 17
        },
        {
            "cell_type": "markdown",
            "source": [
                "## PII Recognition"
            ],
            "metadata": {
                "azdata_cell_guid": "07331c3d-6666-46df-b2f3-e118e19d06f1"
            },
            "attachments": {}
        },
        {
            "cell_type": "code",
            "source": [
                "SELECT azure_cognitive.recognize_pii_entities('For more information, see Cognitive Services Compliance and Privacy notes.', 'en-us');"
            ],
            "metadata": {
                "azdata_cell_guid": "5f475214-cafc-4e5d-85a6-14fd6163c446",
                "language": "sql"
            },
            "outputs": [
                {
                    "output_type": "display_data",
                    "data": {
                        "text/html": "(1 row(s) affected)"
                    },
                    "metadata": {}
                },
                {
                    "output_type": "display_data",
                    "data": {
                        "text/html": "Total execution time: 00:00:00.338"
                    },
                    "metadata": {}
                },
                {
                    "output_type": "execute_result",
                    "metadata": {},
                    "execution_count": 1,
                    "data": {
                        "application/vnd.dataresource+json": {
                            "schema": {
                                "fields": [
                                    {
                                        "name": "recognize_pii_entities"
                                    }
                                ]
                            },
                            "data": [
                                {
                                    "recognize_pii_entities": "(\"For more information, see Cognitive Services Compliance and Privacy notes.\",)"
                                }
                            ]
                        },
                        "text/html": [
                            "<table>",
                            "<tr><th>recognize_pii_entities</th></tr>",
                            "<tr><td>(&quot;For more information, see Cognitive Services Compliance and Privacy notes.&quot;,)</td></tr>",
                            "</table>"
                        ]
                    }
                }
            ],
            "execution_count": 1
        },
        {
            "cell_type": "code",
            "source": [
                "ALTER TABLE listings ADD COLUMN description_pii_safe text;\r\n",
                "ALTER TABLE listings ADD COLUMN pii_entities azure_cognitive.entity[];\r\n",
                "\r\n",
                "UPDATE listings\r\n",
                "SET\r\n",
                "    description_pii_safe = pii.redacted_text,\r\n",
                "    pii_entities = pii.entities\r\n",
                "FROM (SELECT id, description FROM listings WHERE description_pii_safe IS NULL OR pii_entities IS NULL ORDER BY id LIMIT 100) subset,\r\n",
                "LATERAL azure_cognitive.recognize_pii_entities(subset.description, 'en-us') as pii\r\n",
                "WHERE listings.id = subset.id;\r\n",
                "\r\n",
                "SELECT pii_entities\r\n",
                "FROM listings\r\n",
                "WHERE entities IS NOT NULL\r\n",
                "LIMIT 1;"
            ],
            "metadata": {
                "language": "sql",
                "azdata_cell_guid": "7f2051c0-f251-4184-a90e-4335459e02a3"
            },
            "outputs": [
                {
                    "output_type": "display_data",
                    "data": {
                        "text/html": "UPDATE 50"
                    },
                    "metadata": {}
                },
                {
                    "output_type": "display_data",
                    "data": {
                        "text/html": "(1 row(s) affected)"
                    },
                    "metadata": {}
                },
                {
                    "output_type": "display_data",
                    "data": {
                        "text/html": "Total execution time: 00:00:08.280"
                    },
                    "metadata": {}
                },
                {
                    "output_type": "execute_result",
                    "metadata": {},
                    "execution_count": 3,
                    "data": {
                        "application/vnd.dataresource+json": {
                            "schema": {
                                "fields": [
                                    {
                                        "name": "pii_entities"
                                    }
                                ]
                            },
                            "data": [
                                {
                                    "pii_entities": "{\"(craftsman,PersonType,\\\"\\\",0.69)\",\"(Zoka,Organization,\\\"\\\",0.58)\",\"(I-5,Address,\\\"\\\",0.67)\",\"(\\\"Rt 99\\\",Address,\\\"\\\",0.78)\"}"
                                }
                            ]
                        },
                        "text/html": [
                            "<table>",
                            "<tr><th>pii_entities</th></tr>",
                            "<tr><td>{&quot;(craftsman,PersonType,\\&quot;\\&quot;,0.69)&quot;,&quot;(Zoka,Organization,\\&quot;\\&quot;,0.58)&quot;,&quot;(I-5,Address,\\&quot;\\&quot;,0.67)&quot;,&quot;(\\&quot;Rt 99\\&quot;,Address,\\&quot;\\&quot;,0.78)&quot;}</td></tr>",
                            "</table>"
                        ]
                    }
                }
            ],
            "execution_count": 3
        }
    ]
}