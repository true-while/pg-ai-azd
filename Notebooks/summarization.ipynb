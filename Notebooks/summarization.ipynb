{
    "metadata": {
        "kernelspec": {
            "name": "SQL",
            "display_name": "SQL",
            "language": "sql"
        },
        "language_info": {
            "name": "sql",
            "version": ""
        }
    },
    "nbformat_minor": 2,
    "nbformat": 4,
    "cells": [
        {
            "cell_type": "markdown",
            "source": [
                "**Compare extractive_summary and  abstractive_summary**"
            ],
            "metadata": {
                "azdata_cell_guid": "5788977c-6a22-49ab-9f9d-d847653ffc9d"
            },
            "attachments": {}
        },
        {
            "cell_type": "code",
            "source": [
                "SELECT\r\n",
                "    id,\r\n",
                "    azure_cognitive.summarize_extractive(description, 'en', 2) AS extractive_summary,\r\n",
                "    azure_cognitive.summarize_abstractive(description, 'en', 2) AS abstractive_summary\r\n",
                "FROM listings\r\n",
                "WHERE id IN (1, 2);"
            ],
            "metadata": {
                "azdata_cell_guid": "36332b73-999d-490d-9669-8f986881ac4e",
                "language": "sql",
                "tags": []
            },
            "outputs": [
                {
                    "output_type": "display_data",
                    "data": {
                        "text/html": "(2 row(s) affected)"
                    },
                    "metadata": {}
                },
                {
                    "output_type": "display_data",
                    "data": {
                        "text/html": "Total execution time: 00:00:17.062"
                    },
                    "metadata": {}
                },
                {
                    "output_type": "execute_result",
                    "metadata": {},
                    "execution_count": 2,
                    "data": {
                        "application/vnd.dataresource+json": {
                            "schema": {
                                "fields": [
                                    {
                                        "name": "id"
                                    },
                                    {
                                        "name": "extractive_summary"
                                    },
                                    {
                                        "name": "abstractive_summary"
                                    }
                                ]
                            },
                            "data": [
                                {
                                    "id": "1",
                                    "extractive_summary": "{\"(\\\"Make your self at home in this charming one-bedroom apartment, centrally-located on the west side of Queen Anne hill.\\\",1)\",\"(\\\"The apartment opens onto a private deck, complete with it's own BBQ, overlooking a garden and a forest of black bamboo.\\\",0.68)\"}",
                                    "abstractive_summary": "[\"This charming one-bedroom apartment, located on the west side of Queen Anne hill, offers a blend of elegance and convenience in a centrally-located, private space within a duplex. The unit features an open floor plan, bamboo flooring, a fully-equipped kitchen, and a cozy bedroom with a queen-sized bed, capable of accommodating up to four individuals. Additional amenities include free WiFi, laundry facilities, and a private deck with a BBQ, providing easy access to a garden and lush black bamboo surroundings. The apartment's prime location makes it accessible to downtown Seattle in about fifteen minutes by bus, historic Ballard in ten minutes or a short walk to Whole Foods, Peet's Coffee, and the scenic top of Queen Anne Hill, all within a moderate walking distance.\"]"
                                },
                                {
                                    "id": "2",
                                    "extractive_summary": "{\"(\\\"The Space This is a 1000 square foot, two bedroom, one bathroom house.\\\",1)\",\"(\\\"Start the morning off right with some coffee on the deck.\\\",0.94)\"}",
                                    "abstractive_summary": "[\"This document highlights a welcoming, light-filled home featuring a 1000 square foot two-bedroom, one-bathroom layout with a spacious kitchen and two large indoor dining areas. The residence offers quick access to downtown and coffee shops, making it convenient for enjoying Seattle's dining scene. Guests can savor the morning with coffee on a west-facing deck or explore local eateries like Storyville Coffee Company and The Seattle Grind. The home encourages outdoor activities in nearby parks and offers a variety of lunch options in the vicinity, promoting a rich local experience.\"]"
                                }
                            ]
                        },
                        "text/html": [
                            "<table>",
                            "<tr><th>id</th><th>extractive_summary</th><th>abstractive_summary</th></tr>",
                            "<tr><td>1</td><td>{&quot;(\\&quot;Make your self at home in this charming one-bedroom apartment, centrally-located on the west side of Queen Anne hill.\\&quot;,1)&quot;,&quot;(\\&quot;The apartment opens onto a private deck, complete with it&#39;s own BBQ, overlooking a garden and a forest of black bamboo.\\&quot;,0.68)&quot;}</td><td>[&quot;This charming one-bedroom apartment, located on the west side of Queen Anne hill, offers a blend of elegance and convenience in a centrally-located, private space within a duplex. The unit features an open floor plan, bamboo flooring, a fully-equipped kitchen, and a cozy bedroom with a queen-sized bed, capable of accommodating up to four individuals. Additional amenities include free WiFi, laundry facilities, and a private deck with a BBQ, providing easy access to a garden and lush black bamboo surroundings. The apartment&#39;s prime location makes it accessible to downtown Seattle in about fifteen minutes by bus, historic Ballard in ten minutes or a short walk to Whole Foods, Peet&#39;s Coffee, and the scenic top of Queen Anne Hill, all within a moderate walking distance.&quot;]</td></tr>",
                            "<tr><td>2</td><td>{&quot;(\\&quot;The Space This is a 1000 square foot, two bedroom, one bathroom house.\\&quot;,1)&quot;,&quot;(\\&quot;Start the morning off right with some coffee on the deck.\\&quot;,0.94)&quot;}</td><td>[&quot;This document highlights a welcoming, light-filled home featuring a 1000 square foot two-bedroom, one-bathroom layout with a spacious kitchen and two large indoor dining areas. The residence offers quick access to downtown and coffee shops, making it convenient for enjoying Seattle&#39;s dining scene. Guests can savor the morning with coffee on a west-facing deck or explore local eateries like Storyville Coffee Company and The Seattle Grind. The home encourages outdoor activities in nearby parks and offers a variety of lunch options in the vicinity, promoting a rich local experience.&quot;]</td></tr>",
                            "</table>"
                        ]
                    }
                }
            ],
            "execution_count": 2
        },
        {
            "cell_type": "markdown",
            "source": [
                "**Store Description Summary in the Database**"
            ],
            "metadata": {
                "language": "sql",
                "azdata_cell_guid": "1a1a8317-320a-461a-9e4b-ffa5a2aa401d"
            },
            "attachments": {}
        },
        {
            "cell_type": "code",
            "source": [
                "ALTER TABLE listings\r\n",
                "ADD COLUMN summary text;\r\n",
                "\r\n",
                "WITH batch_cte AS (\r\n",
                "    SELECT azure_cognitive.summarize_abstractive(ARRAY(SELECT description FROM listings ORDER BY id), 'en', batch_size => 25) AS summary\r\n",
                "),\r\n",
                "summary_cte AS (\r\n",
                "    SELECT\r\n",
                "        ROW_NUMBER() OVER () AS id,\r\n",
                "        ARRAY_TO_STRING(summary, ',') AS summary\r\n",
                "    FROM batch_cte\r\n",
                ")\r\n",
                "UPDATE listings AS l\r\n",
                "SET summary = s.summary\r\n",
                "FROM summary_cte AS s\r\n",
                "WHERE l.id = s.id;"
            ],
            "metadata": {
                "azdata_cell_guid": "3b125bd7-0b18-4bd2-a521-a3ff8994276d",
                "language": "sql"
            },
            "outputs": [
                {
                    "output_type": "display_data",
                    "data": {
                        "text/html": "ALTER TABLE"
                    },
                    "metadata": {}
                },
                {
                    "output_type": "display_data",
                    "data": {
                        "text/html": "UPDATE 50"
                    },
                    "metadata": {}
                },
                {
                    "output_type": "display_data",
                    "data": {
                        "text/html": "Total execution time: 00:03:00.716"
                    },
                    "metadata": {}
                }
            ],
            "execution_count": 3
        },
        {
            "cell_type": "markdown",
            "source": [
                "<span style=\"color: rgb(31, 35, 40); font-family: -apple-system, BlinkMacSystemFont, &quot;Segoe UI&quot;, &quot;Noto Sans&quot;, Helvetica, Arial, sans-serif, &quot;Apple Color Emoji&quot;, &quot;Segoe UI Emoji&quot;; font-size: 16px; background-color: rgb(255, 255, 255);\"><b>Displaying a summary of all reviews for a property</b></span>"
            ],
            "metadata": {
                "language": "sql",
                "azdata_cell_guid": "1476cb8f-ef46-427b-9f4a-c8098062ed63"
            },
            "attachments": {}
        },
        {
            "cell_type": "code",
            "source": [
                "SELECT unnest(azure_cognitive.summarize_abstractive(reviews_combined, 'en')) AS review_summary\r\n",
                "FROM (\r\n",
                "    -- Combine all reviews for a listing\r\n",
                "    SELECT string_agg(comments, ' ') AS reviews_combined\r\n",
                "    FROM reviews\r\n",
                "    WHERE listing_id = 1\r\n",
                ")"
            ],
            "metadata": {
                "language": "sql",
                "azdata_cell_guid": "563d872d-0c53-41ea-9c5d-8d923964f597",
                "tags": [
                    "hide_input"
                ]
            },
            "outputs": [
                {
                    "output_type": "display_data",
                    "data": {
                        "text/html": "(1 row(s) affected)"
                    },
                    "metadata": {}
                },
                {
                    "output_type": "display_data",
                    "data": {
                        "text/html": "Total execution time: 00:00:13.666"
                    },
                    "metadata": {}
                },
                {
                    "output_type": "execute_result",
                    "metadata": {},
                    "execution_count": 5,
                    "data": {
                        "application/vnd.dataresource+json": {
                            "schema": {
                                "fields": [
                                    {
                                        "name": "review_summary"
                                    }
                                ]
                            },
                            "data": [
                                {
                                    "review_summary": "Guests consistently praise the Queen Anne neighborhood and the host's accommodations in Seattle, highlighting the apartment'ded spaciousness, modern aesthetic, and convenient location near downtown. Visitors commend the comfortable bed, cleanliness, and amenities, including a washer and dryer, with some noting the private patio space as a bonus. However, there are a few negative aspects mentioned, such as potential mustiness in a basement-style space, street noise, and limited towels. Despite these concerns, the overall tone suggests that the stay was enjoyable, with the host being described as welcoming and helpful, making the apartment a great base for exploring Seattle. The accommodations offer a home-away-from-home experience, with easy access to the city's attractions via public transportation. The feedback reflects a positive impression of the stay, with a few minor drawbacks that do not seem to detract significantly from the overall experience."
                                }
                            ]
                        },
                        "text/html": [
                            "<table>",
                            "<tr><th>review_summary</th></tr>",
                            "<tr><td>Guests consistently praise the Queen Anne neighborhood and the host&#39;s accommodations in Seattle, highlighting the apartment&#39;ded spaciousness, modern aesthetic, and convenient location near downtown. Visitors commend the comfortable bed, cleanliness, and amenities, including a washer and dryer, with some noting the private patio space as a bonus. However, there are a few negative aspects mentioned, such as potential mustiness in a basement-style space, street noise, and limited towels. Despite these concerns, the overall tone suggests that the stay was enjoyable, with the host being described as welcoming and helpful, making the apartment a great base for exploring Seattle. The accommodations offer a home-away-from-home experience, with easy access to the city&#39;s attractions via public transportation. The feedback reflects a positive impression of the stay, with a few minor drawbacks that do not seem to detract significantly from the overall experience.</td></tr>",
                            "</table>"
                        ]
                    }
                }
            ],
            "execution_count": 5
        }
    ]
}