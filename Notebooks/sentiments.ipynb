{
    "metadata": {
        "kernelspec": {
            "name": "SQL",
            "display_name": "SQL",
            "language": "sql"
        },
        "language_info": {
            "name": "sql",
            "version": ""
        }
    },
    "nbformat_minor": 2,
    "nbformat": 4,
    "cells": [
        {
            "cell_type": "markdown",
            "source": [
                "## **Analyze the sentiment of reviews**"
            ],
            "metadata": {
                "azdata_cell_guid": "9d0b14c9-56f8-4f31-b39f-6bac911c97b2"
            },
            "attachments": {}
        },
        {
            "cell_type": "code",
            "source": [
                "WITH cte AS (\r\n",
                "    SELECT id, comments, azure_cognitive.analyze_sentiment(comments, 'en') AS sentiment FROM reviews\r\n",
                ")\r\n",
                "SELECT\r\n",
                "    id,\r\n",
                "    (sentiment).sentiment,\r\n",
                "    (sentiment).positive_score,\r\n",
                "    (sentiment).neutral_score,\r\n",
                "    (sentiment).negative_score,\r\n",
                "    comments\r\n",
                "FROM cte\r\n",
                "WHERE (sentiment).positive_score > 0.98\r\n",
                "LIMIT 5;"
            ],
            "metadata": {
                "azdata_cell_guid": "fa28c34d-66ce-4d3e-a902-eaa40044f8e7",
                "language": "sql"
            },
            "outputs": [
                {
                    "output_type": "display_data",
                    "data": {
                        "text/html": "(5 row(s) affected)"
                    },
                    "metadata": {}
                },
                {
                    "output_type": "display_data",
                    "data": {
                        "text/html": "Total execution time: 00:00:05.171"
                    },
                    "metadata": {}
                },
                {
                    "output_type": "execute_result",
                    "metadata": {},
                    "execution_count": 1,
                    "data": {
                        "application/vnd.dataresource+json": {
                            "schema": {
                                "fields": [
                                    {
                                        "name": "id"
                                    },
                                    {
                                        "name": "sentiment"
                                    },
                                    {
                                        "name": "positive_score"
                                    },
                                    {
                                        "name": "neutral_score"
                                    },
                                    {
                                        "name": "negative_score"
                                    },
                                    {
                                        "name": "comments"
                                    }
                                ]
                            },
                            "data": [
                                {
                                    "id": "3",
                                    "sentiment": "positive",
                                    "positive_score": "1",
                                    "neutral_score": "0",
                                    "negative_score": "0",
                                    "comments": "One of the most pleasant stays I've had in my travels. The host is wonderful!"
                                },
                                {
                                    "id": "4",
                                    "sentiment": "positive",
                                    "positive_score": "1",
                                    "neutral_score": "0",
                                    "negative_score": "0",
                                    "comments": "The host's suite is beautiful, cozy and conveniently located. I love that armchair! One tip: when she offers you detailed directions: take them, especially if you're arriving after dark! ;)"
                                },
                                {
                                    "id": "6",
                                    "sentiment": "positive",
                                    "positive_score": "0.99",
                                    "neutral_score": "0.01",
                                    "negative_score": "0",
                                    "comments": "I had a wonderful 4 night stay in this apartment. The place is crisp and clean and in a fantastic location. Walking around the Queen Anne neighborhood each day showed the real charm of Seattle and I hope I have a chance to stay again!"
                                },
                                {
                                    "id": "16",
                                    "sentiment": "positive",
                                    "positive_score": "1",
                                    "neutral_score": "0",
                                    "negative_score": "0",
                                    "comments": "I was very comfortable at the apartment. A great overall experience and she really went out of her way to provide some good recommendations."
                                },
                                {
                                    "id": "18",
                                    "sentiment": "positive",
                                    "positive_score": "1",
                                    "neutral_score": "0",
                                    "negative_score": "0",
                                    "comments": "We absolutely adored this lovely apartment! It was the perfect spot to help us ease into the Seattle community upon our relocation to Seattle from N.Y. while waiting for our things to arrive..."
                                }
                            ]
                        },
                        "text/html": [
                            "<table>",
                            "<tr><th>id</th><th>sentiment</th><th>positive_score</th><th>neutral_score</th><th>negative_score</th><th>comments</th></tr>",
                            "<tr><td>3</td><td>positive</td><td>1</td><td>0</td><td>0</td><td>One of the most pleasant stays I&#39;ve had in my travels. The host is wonderful!</td></tr>",
                            "<tr><td>4</td><td>positive</td><td>1</td><td>0</td><td>0</td><td>The host&#39;s suite is beautiful, cozy and conveniently located. I love that armchair! One tip: when she offers you detailed directions: take them, especially if you&#39;re arriving after dark! ;)</td></tr>",
                            "<tr><td>6</td><td>positive</td><td>0.99</td><td>0.01</td><td>0</td><td>I had a wonderful 4 night stay in this apartment. The place is crisp and clean and in a fantastic location. Walking around the Queen Anne neighborhood each day showed the real charm of Seattle and I hope I have a chance to stay again!</td></tr>",
                            "<tr><td>16</td><td>positive</td><td>1</td><td>0</td><td>0</td><td>I was very comfortable at the apartment. A great overall experience and she really went out of her way to provide some good recommendations.</td></tr>",
                            "<tr><td>18</td><td>positive</td><td>1</td><td>0</td><td>0</td><td>We absolutely adored this lovely apartment! It was the perfect spot to help us ease into the Seattle community upon our relocation to Seattle from N.Y. while waiting for our things to arrive...</td></tr>",
                            "</table>"
                        ]
                    }
                }
            ],
            "execution_count": 1
        },
        {
            "cell_type": "markdown",
            "source": [
                "## Store Sentiment in the Reviews Table ( Performance!! )"
            ],
            "metadata": {
                "azdata_cell_guid": "1805b108-fb85-41e1-94e3-aac411fd5a57"
            },
            "attachments": {}
        },
        {
            "cell_type": "code",
            "source": [
                "ALTER TABLE reviews\r\n",
                "ADD COLUMN sentiment varchar(10),\r\n",
                "ADD COLUMN positive_score numeric,\r\n",
                "ADD COLUMN neutral_score numeric,\r\n",
                "ADD COLUMN negative_score numeric;\r\n",
                "\r\n",
                "WITH cte AS (\r\n",
                "    SELECT id, azure_cognitive.analyze_sentiment(comments, 'en') AS sentiment FROM reviews\r\n",
                ")\r\n",
                "UPDATE reviews AS r\r\n",
                "SET\r\n",
                "    sentiment = (cte.sentiment).sentiment,\r\n",
                "    positive_score = (cte.sentiment).positive_score,\r\n",
                "    neutral_score = (cte.sentiment).neutral_score,\r\n",
                "    negative_score = (cte.sentiment).negative_score\r\n",
                "FROM cte\r\n",
                "WHERE r.id = cte.id;"
            ],
            "metadata": {
                "azdata_cell_guid": "195afe57-2214-433d-bf2a-e7fc7bf48cf1",
                "language": "sql"
            },
            "outputs": [
                {
                    "output_type": "display_data",
                    "data": {
                        "text/html": "UPDATE 354"
                    },
                    "metadata": {}
                },
                {
                    "output_type": "display_data",
                    "data": {
                        "text/html": "Total execution time: 00:03:06.597"
                    },
                    "metadata": {}
                }
            ],
            "execution_count": 5
        },
        {
            "cell_type": "markdown",
            "source": [
                "## <span style=\"font-size: 14px;\"><b>The same in a batch of 10.</b></span>"
            ],
            "metadata": {
                "azdata_cell_guid": "d99df333-c8c3-4c91-8d98-650f3d04e733"
            },
            "attachments": {}
        },
        {
            "cell_type": "code",
            "source": [
                "WITH cte AS (\r\n",
                "    SELECT azure_cognitive.analyze_sentiment(ARRAY(SELECT comments FROM reviews ORDER BY id), 'en', batch_size => 10) as sentiments\r\n",
                "),\r\n",
                "sentiment_cte AS (\r\n",
                "    SELECT\r\n",
                "        ROW_NUMBER() OVER () AS id,\r\n",
                "        sentiments AS sentiment\r\n",
                "    FROM cte\r\n",
                ")\r\n",
                "UPDATE reviews AS r\r\n",
                "SET\r\n",
                "    sentiment = (sentiment_cte.sentiment).sentiment,\r\n",
                "    positive_score = (sentiment_cte.sentiment).positive_score,\r\n",
                "    neutral_score = (sentiment_cte.sentiment).neutral_score,\r\n",
                "    negative_score = (sentiment_cte.sentiment).negative_score\r\n",
                "FROM sentiment_cte\r\n",
                "WHERE r.id = sentiment_cte.id;"
            ],
            "metadata": {
                "azdata_cell_guid": "9ea6c94b-56e9-4bd2-8fee-99b08d89bde0",
                "language": "sql"
            },
            "outputs": [
                {
                    "output_type": "display_data",
                    "data": {
                        "text/html": "UPDATE 354"
                    },
                    "metadata": {}
                },
                {
                    "output_type": "display_data",
                    "data": {
                        "text/html": "Total execution time: 00:00:06.648"
                    },
                    "metadata": {}
                }
            ],
            "execution_count": 6
        },
        {
            "cell_type": "code",
            "source": [
                "SELECT\r\n",
                "    id,\r\n",
                "    negative_score,\r\n",
                "    comments\r\n",
                "FROM reviews\r\n",
                "WHERE sentiment = 'negative'\r\n",
                "ORDER BY negative_score DESC;"
            ],
            "metadata": {
                "language": "sql",
                "azdata_cell_guid": "20ec5498-cbbb-4766-adc9-c03ac9629d50"
            },
            "outputs": [
                {
                    "output_type": "display_data",
                    "data": {
                        "text/html": "(8 row(s) affected)"
                    },
                    "metadata": {}
                },
                {
                    "output_type": "display_data",
                    "data": {
                        "text/html": "Total execution time: 00:00:00.206"
                    },
                    "metadata": {}
                },
                {
                    "output_type": "execute_result",
                    "metadata": {},
                    "execution_count": 7,
                    "data": {
                        "application/vnd.dataresource+json": {
                            "schema": {
                                "fields": [
                                    {
                                        "name": "id"
                                    },
                                    {
                                        "name": "negative_score"
                                    },
                                    {
                                        "name": "comments"
                                    }
                                ]
                            },
                            "data": [
                                {
                                    "id": "332",
                                    "negative_score": "0.98",
                                    "comments": "The host canceled this reservation 3 days before arrival without first talking to us. We were left stranded in Seattle with no place to stay. Would not recommend."
                                },
                                {
                                    "id": "303",
                                    "negative_score": "0.97",
                                    "comments": "The host canceled this reservation 1 day before arrival. We were left stranded in Seattle with no place to stay. Would not recommend."
                                },
                                {
                                    "id": "129",
                                    "negative_score": "0.97",
                                    "comments": "The reservation was canceled by the host 1 days before arrival. This left us scrambling for a place to stay at the last minute. Not cool! Won't book with this host again."
                                },
                                {
                                    "id": "301",
                                    "negative_score": "0.95",
                                    "comments": "The host canceled this reservation 6 days before arrival. We were left stranded in Seattle with no place to stay. Would not recommend."
                                },
                                {
                                    "id": "59",
                                    "negative_score": "0.92",
                                    "comments": "Lovely place but very noisy in the evening. Not to recommend to people who do not want their sleep to be affected."
                                },
                                {
                                    "id": "252",
                                    "negative_score": "0.83",
                                    "comments": "Arrived to find an apartment on the lower west side of Queen Anne with views of Interbay (15th ave. west), the train tracks, and Magnolia hill.. The building is undergoing what I would call a major, not a minor, renovation at this time. Apartment is west-facing, so we found the space stuffy to be quite honest. Also, the construction, being loud with hammering and nail guns starting at 7:30 am forced us to leave for one full day of our stay between the hours of 7:30-4:30."
                                },
                                {
                                    "id": "317",
                                    "negative_score": "0.82",
                                    "comments": "Great neighborhood, but the \\patio\\ photo was misleading. There was no table and chair(s) - you have to climb out a window onto a roof that can be accessed by several other windows, so limited privacy.It would have been helpful to know before booking that there was no coffee maker, toaster, or microwave and that parking can be difficult.Comfy bed, though."
                                },
                                {
                                    "id": "268",
                                    "negative_score": "0.53",
                                    "comments": "The good: Good location, comfortable space, comfortable bed, washer and dryerThe bad: It smelled musty (it's an exposed basement), street noise is loud, there were many cobwebs, the only bar soap was soap used by previous tenants (I did bring our own just in case), very few towels, found bathroom floor mats in laundry room which seemed clean, found coffee maker in laundry room (after we bought one)."
                                }
                            ]
                        },
                        "text/html": [
                            "<table>",
                            "<tr><th>id</th><th>negative_score</th><th>comments</th></tr>",
                            "<tr><td>332</td><td>0.98</td><td>The host canceled this reservation 3 days before arrival without first talking to us. We were left stranded in Seattle with no place to stay. Would not recommend.</td></tr>",
                            "<tr><td>303</td><td>0.97</td><td>The host canceled this reservation 1 day before arrival. We were left stranded in Seattle with no place to stay. Would not recommend.</td></tr>",
                            "<tr><td>129</td><td>0.97</td><td>The reservation was canceled by the host 1 days before arrival. This left us scrambling for a place to stay at the last minute. Not cool! Won&#39;t book with this host again.</td></tr>",
                            "<tr><td>301</td><td>0.95</td><td>The host canceled this reservation 6 days before arrival. We were left stranded in Seattle with no place to stay. Would not recommend.</td></tr>",
                            "<tr><td>59</td><td>0.92</td><td>Lovely place but very noisy in the evening. Not to recommend to people who do not want their sleep to be affected.</td></tr>",
                            "<tr><td>252</td><td>0.83</td><td>Arrived to find an apartment on the lower west side of Queen Anne with views of Interbay (15th ave. west), the train tracks, and Magnolia hill.. The building is undergoing what I would call a major, not a minor, renovation at this time. Apartment is west-facing, so we found the space stuffy to be quite honest. Also, the construction, being loud with hammering and nail guns starting at 7:30 am forced us to leave for one full day of our stay between the hours of 7:30-4:30.</td></tr>",
                            "<tr><td>317</td><td>0.82</td><td>Great neighborhood, but the \\patio\\ photo was misleading. There was no table and chair(s) - you have to climb out a window onto a roof that can be accessed by several other windows, so limited privacy.It would have been helpful to know before booking that there was no coffee maker, toaster, or microwave and that parking can be difficult.Comfy bed, though.</td></tr>",
                            "<tr><td>268</td><td>0.53</td><td>The good: Good location, comfortable space, comfortable bed, washer and dryerThe bad: It smelled musty (it&#39;s an exposed basement), street noise is loud, there were many cobwebs, the only bar soap was soap used by previous tenants (I did bring our own just in case), very few towels, found bathroom floor mats in laundry room which seemed clean, found coffee maker in laundry room (after we bought one).</td></tr>",
                            "</table>"
                        ]
                    }
                }
            ],
            "execution_count": 7
        }
    ]
}