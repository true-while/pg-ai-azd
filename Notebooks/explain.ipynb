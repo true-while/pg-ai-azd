{
    "metadata": {
        "kernelspec": {
            "name": "SQL",
            "display_name": "SQL",
            "language": "sql"
        },
        "language_info": {
            "name": "sql",
            "version": ""
        }
    },
    "nbformat_minor": 2,
    "nbformat": 4,
    "cells": [
        {
            "cell_type": "code",
            "source": [
                "--CALL repopulate_zoo();"
            ],
            "metadata": {
                "azdata_cell_guid": "b797683e-c759-471d-a81f-bbb9a5a92654",
                "language": "sql"
            },
            "outputs": [
                {
                    "output_type": "error",
                    "ename": "",
                    "evalue": "procedure repopulate_zoo() does not exist",
                    "traceback": []
                },
                {
                    "output_type": "display_data",
                    "data": {
                        "text/html": "Total execution time: 00:00:00.032"
                    },
                    "metadata": {}
                }
            ],
            "execution_count": 1
        },
        {
            "cell_type": "markdown",
            "source": [
                "**1\\. Investigate EXPLAIN ANALYE**"
            ],
            "metadata": {
                "azdata_cell_guid": "63036c06-f12c-4dbf-9ee6-08b7da516608"
            },
            "attachments": {}
        },
        {
            "cell_type": "code",
            "source": [
                "EXPLAIN ANALYZE SELECT A.ani_id, A.name, A.weight_kg, C.category, E.enclosure\r\n",
                "\tFROM animal AS A\r\n",
                "\t\tINNER JOIN category AS C\r\n",
                "\t\t\tON A.cat_id = C.cat_id\r\n",
                "\t\tINNER JOIN enclosure AS E\r\n",
                "\t\t\tON A.enc_id = E.enc_id\r\n",
                "\tORDER BY A.ani_id;"
            ],
            "metadata": {
                "language": "sql",
                "azdata_cell_guid": "9a6a0874-91bb-4027-ae25-7407bdfa12a5"
            },
            "outputs": [
                {
                    "output_type": "display_data",
                    "data": {
                        "text/html": "(20 row(s) affected)"
                    },
                    "metadata": {}
                },
                {
                    "output_type": "display_data",
                    "data": {
                        "text/html": "Total execution time: 00:00:00.176"
                    },
                    "metadata": {}
                },
                {
                    "output_type": "execute_result",
                    "metadata": {},
                    "execution_count": 1,
                    "data": {
                        "application/vnd.dataresource+json": {
                            "schema": {
                                "fields": [
                                    {
                                        "name": "QUERY PLAN"
                                    }
                                ]
                            },
                            "data": [
                                {
                                    "QUERY PLAN": "Sort  (cost=20.62..20.69 rows=27 width=256) (actual time=0.223..0.225 rows=29 loops=1)"
                                },
                                {
                                    "QUERY PLAN": "  Sort Key: a.ani_id"
                                },
                                {
                                    "QUERY PLAN": "  Sort Method: quicksort  Memory: 27kB"
                                },
                                {
                                    "QUERY PLAN": "  ->  Nested Loop  (cost=0.32..19.98 rows=27 width=256) (actual time=0.142..0.185 rows=29 loops=1)"
                                },
                                {
                                    "QUERY PLAN": "        ->  Nested Loop  (cost=0.16..11.13 rows=27 width=142) (actual time=0.133..0.158 rows=29 loops=1)"
                                },
                                {
                                    "QUERY PLAN": "              ->  Seq Scan on animal a  (cost=0.00..1.27 rows=27 width=28) (actual time=0.119..0.122 rows=29 loops=1)"
                                },
                                {
                                    "QUERY PLAN": "              ->  Memoize  (cost=0.16..1.07 rows=1 width=122) (actual time=0.001..0.001 rows=1 loops=29)"
                                },
                                {
                                    "QUERY PLAN": "                    Cache Key: a.cat_id"
                                },
                                {
                                    "QUERY PLAN": "                    Cache Mode: logical"
                                },
                                {
                                    "QUERY PLAN": "                    Hits: 21  Misses: 8  Evictions: 0  Overflows: 0  Memory Usage: 1kB"
                                },
                                {
                                    "QUERY PLAN": "                    ->  Index Scan using category_pkey on category c  (cost=0.15..1.06 rows=1 width=122) (actual time=0.002..0.002 rows=1 loops=8)"
                                },
                                {
                                    "QUERY PLAN": "                          Index Cond: (cat_id = a.cat_id)"
                                },
                                {
                                    "QUERY PLAN": "        ->  Memoize  (cost=0.16..1.07 rows=1 width=122) (actual time=0.001..0.001 rows=1 loops=29)"
                                },
                                {
                                    "QUERY PLAN": "              Cache Key: a.enc_id"
                                },
                                {
                                    "QUERY PLAN": "              Cache Mode: logical"
                                },
                                {
                                    "QUERY PLAN": "              Hits: 22  Misses: 7  Evictions: 0  Overflows: 0  Memory Usage: 1kB"
                                },
                                {
                                    "QUERY PLAN": "              ->  Index Scan using enclosure_pkey on enclosure e  (cost=0.15..1.06 rows=1 width=122) (actual time=0.002..0.002 rows=1 loops=7)"
                                },
                                {
                                    "QUERY PLAN": "                    Index Cond: (enc_id = a.enc_id)"
                                },
                                {
                                    "QUERY PLAN": "Planning Time: 0.425 ms"
                                },
                                {
                                    "QUERY PLAN": "Execution Time: 3.089 ms"
                                }
                            ]
                        },
                        "text/html": [
                            "<table>",
                            "<tr><th>QUERY PLAN</th></tr>",
                            "<tr><td>Sort  (cost=20.62..20.69 rows=27 width=256) (actual time=0.223..0.225 rows=29 loops=1)</td></tr>",
                            "<tr><td>  Sort Key: a.ani_id</td></tr>",
                            "<tr><td>  Sort Method: quicksort  Memory: 27kB</td></tr>",
                            "<tr><td>  -&gt;  Nested Loop  (cost=0.32..19.98 rows=27 width=256) (actual time=0.142..0.185 rows=29 loops=1)</td></tr>",
                            "<tr><td>        -&gt;  Nested Loop  (cost=0.16..11.13 rows=27 width=142) (actual time=0.133..0.158 rows=29 loops=1)</td></tr>",
                            "<tr><td>              -&gt;  Seq Scan on animal a  (cost=0.00..1.27 rows=27 width=28) (actual time=0.119..0.122 rows=29 loops=1)</td></tr>",
                            "<tr><td>              -&gt;  Memoize  (cost=0.16..1.07 rows=1 width=122) (actual time=0.001..0.001 rows=1 loops=29)</td></tr>",
                            "<tr><td>                    Cache Key: a.cat_id</td></tr>",
                            "<tr><td>                    Cache Mode: logical</td></tr>",
                            "<tr><td>                    Hits: 21  Misses: 8  Evictions: 0  Overflows: 0  Memory Usage: 1kB</td></tr>",
                            "<tr><td>                    -&gt;  Index Scan using category_pkey on category c  (cost=0.15..1.06 rows=1 width=122) (actual time=0.002..0.002 rows=1 loops=8)</td></tr>",
                            "<tr><td>                          Index Cond: (cat_id = a.cat_id)</td></tr>",
                            "<tr><td>        -&gt;  Memoize  (cost=0.16..1.07 rows=1 width=122) (actual time=0.001..0.001 rows=1 loops=29)</td></tr>",
                            "<tr><td>              Cache Key: a.enc_id</td></tr>",
                            "<tr><td>              Cache Mode: logical</td></tr>",
                            "<tr><td>              Hits: 22  Misses: 7  Evictions: 0  Overflows: 0  Memory Usage: 1kB</td></tr>",
                            "<tr><td>              -&gt;  Index Scan using enclosure_pkey on enclosure e  (cost=0.15..1.06 rows=1 width=122) (actual time=0.002..0.002 rows=1 loops=7)</td></tr>",
                            "<tr><td>                    Index Cond: (enc_id = a.enc_id)</td></tr>",
                            "<tr><td>Planning Time: 0.425 ms</td></tr>",
                            "<tr><td>Execution Time: 3.089 ms</td></tr>",
                            "</table>"
                        ]
                    }
                }
            ],
            "execution_count": 1
        },
        {
            "cell_type": "markdown",
            "source": [
                "**Investigate EXPLAIN**"
            ],
            "metadata": {
                "language": "sql",
                "azdata_cell_guid": "e47844d2-5ca6-4a4d-a4ad-cdb6271ee0bc"
            },
            "attachments": {}
        },
        {
            "cell_type": "code",
            "source": [
                "EXPLAIN (COSTS) SELECT A.ani_id, A.name, A.weight_kg, C.category, E.enclosure\r\n",
                "\tFROM animal AS A\r\n",
                "\t\tINNER JOIN category AS C\r\n",
                "\t\t\tON A.cat_id = C.cat_id\r\n",
                "\t\tINNER JOIN enclosure AS E\r\n",
                "\t\t\tON A.enc_id = E.enc_id\r\n",
                "\tORDER BY A.ani_id;"
            ],
            "metadata": {
                "language": "sql",
                "azdata_cell_guid": "9f380418-b821-436c-8080-ccd2a7dbca92"
            },
            "outputs": [
                {
                    "output_type": "display_data",
                    "data": {
                        "text/html": "(15 row(s) affected)"
                    },
                    "metadata": {}
                },
                {
                    "output_type": "display_data",
                    "data": {
                        "text/html": "Total execution time: 00:00:00.175"
                    },
                    "metadata": {}
                },
                {
                    "output_type": "execute_result",
                    "execution_count": 8,
                    "data": {
                        "application/vnd.dataresource+json": {
                            "schema": {
                                "fields": [
                                    {
                                        "name": "QUERY PLAN"
                                    }
                                ]
                            },
                            "data": [
                                {
                                    "QUERY PLAN": "Sort  (cost=20.62..20.69 rows=27 width=256)"
                                },
                                {
                                    "QUERY PLAN": "  Sort Key: a.ani_id"
                                },
                                {
                                    "QUERY PLAN": "  ->  Nested Loop  (cost=0.32..19.98 rows=27 width=256)"
                                },
                                {
                                    "QUERY PLAN": "        ->  Nested Loop  (cost=0.16..11.13 rows=27 width=142)"
                                },
                                {
                                    "QUERY PLAN": "              ->  Seq Scan on animal a  (cost=0.00..1.27 rows=27 width=28)"
                                },
                                {
                                    "QUERY PLAN": "              ->  Memoize  (cost=0.16..1.07 rows=1 width=122)"
                                },
                                {
                                    "QUERY PLAN": "                    Cache Key: a.cat_id"
                                },
                                {
                                    "QUERY PLAN": "                    Cache Mode: logical"
                                },
                                {
                                    "QUERY PLAN": "                    ->  Index Scan using category_pkey on category c  (cost=0.15..1.06 rows=1 width=122)"
                                },
                                {
                                    "QUERY PLAN": "                          Index Cond: (cat_id = a.cat_id)"
                                },
                                {
                                    "QUERY PLAN": "        ->  Memoize  (cost=0.16..1.07 rows=1 width=122)"
                                },
                                {
                                    "QUERY PLAN": "              Cache Key: a.enc_id"
                                },
                                {
                                    "QUERY PLAN": "              Cache Mode: logical"
                                },
                                {
                                    "QUERY PLAN": "              ->  Index Scan using enclosure_pkey on enclosure e  (cost=0.15..1.06 rows=1 width=122)"
                                },
                                {
                                    "QUERY PLAN": "                    Index Cond: (enc_id = a.enc_id)"
                                }
                            ]
                        },
                        "text/html": "<table><tr><th>QUERY PLAN</th></tr><tr><td>Sort  (cost=20.62..20.69 rows=27 width=256)</td></tr><tr><td>  Sort Key: a.ani_id</td></tr><tr><td>  -&gt;  Nested Loop  (cost=0.32..19.98 rows=27 width=256)</td></tr><tr><td>        -&gt;  Nested Loop  (cost=0.16..11.13 rows=27 width=142)</td></tr><tr><td>              -&gt;  Seq Scan on animal a  (cost=0.00..1.27 rows=27 width=28)</td></tr><tr><td>              -&gt;  Memoize  (cost=0.16..1.07 rows=1 width=122)</td></tr><tr><td>                    Cache Key: a.cat_id</td></tr><tr><td>                    Cache Mode: logical</td></tr><tr><td>                    -&gt;  Index Scan using category_pkey on category c  (cost=0.15..1.06 rows=1 width=122)</td></tr><tr><td>                          Index Cond: (cat_id = a.cat_id)</td></tr><tr><td>        -&gt;  Memoize  (cost=0.16..1.07 rows=1 width=122)</td></tr><tr><td>              Cache Key: a.enc_id</td></tr><tr><td>              Cache Mode: logical</td></tr><tr><td>              -&gt;  Index Scan using enclosure_pkey on enclosure e  (cost=0.15..1.06 rows=1 width=122)</td></tr><tr><td>                    Index Cond: (enc_id = a.enc_id)</td></tr></table>"
                    },
                    "metadata": {}
                }
            ],
            "execution_count": 8
        },
        {
            "cell_type": "markdown",
            "source": [
                "**Investigate EXPLAIN options**"
            ],
            "metadata": {
                "azdata_cell_guid": "59f202b5-8d1e-4e1d-bcad-8adad7ee9719"
            },
            "attachments": {}
        },
        {
            "cell_type": "code",
            "source": [
                "EXPLAIN (ANALYZE, BUFFERS) SELECT A.ani_id, A.name, A.weight_kg, C.category, E.enclosure\r\n",
                "\tFROM animal AS A\r\n",
                "\t\tINNER JOIN category AS C\r\n",
                "\t\t\tON A.cat_id = C.cat_id\r\n",
                "\t\tINNER JOIN enclosure AS E\r\n",
                "\t\t\tON A.enc_id = E.enc_id\r\n",
                "\tORDER BY A.ani_id;\r\n",
                "\r\n",
                ""
            ],
            "metadata": {
                "azdata_cell_guid": "2f8f44c3-2e03-4aa9-acc3-085d381f711a",
                "language": "sql",
                "tags": []
            },
            "outputs": [
                {
                    "output_type": "display_data",
                    "data": {
                        "text/html": "(30 row(s) affected)"
                    },
                    "metadata": {}
                },
                {
                    "output_type": "display_data",
                    "data": {
                        "text/html": "Total execution time: 00:00:00.069"
                    },
                    "metadata": {}
                },
                {
                    "output_type": "execute_result",
                    "execution_count": 5,
                    "data": {
                        "application/vnd.dataresource+json": {
                            "schema": {
                                "fields": [
                                    {
                                        "name": "QUERY PLAN"
                                    }
                                ]
                            },
                            "data": [
                                {
                                    "QUERY PLAN": "Sort  (cost=20.62..20.69 rows=27 width=256) (actual time=0.320..0.323 rows=29 loops=1)"
                                },
                                {
                                    "QUERY PLAN": "  Sort Key: a.ani_id"
                                },
                                {
                                    "QUERY PLAN": "  Sort Method: quicksort  Memory: 27kB"
                                },
                                {
                                    "QUERY PLAN": "  Buffers: shared hit=34 dirtied=1"
                                },
                                {
                                    "QUERY PLAN": "  ->  Nested Loop  (cost=0.32..19.98 rows=27 width=256) (actual time=0.247..0.287 rows=29 loops=1)"
                                },
                                {
                                    "QUERY PLAN": "        Buffers: shared hit=31 dirtied=1"
                                },
                                {
                                    "QUERY PLAN": "        ->  Nested Loop  (cost=0.16..11.13 rows=27 width=142) (actual time=0.236..0.260 rows=29 loops=1)"
                                },
                                {
                                    "QUERY PLAN": "              Buffers: shared hit=17 dirtied=1"
                                },
                                {
                                    "QUERY PLAN": "              ->  Seq Scan on animal a  (cost=0.00..1.27 rows=27 width=28) (actual time=0.215..0.218 rows=29 loops=1)"
                                },
                                {
                                    "QUERY PLAN": "                    Buffers: shared hit=1 dirtied=1"
                                },
                                {
                                    "QUERY PLAN": "              ->  Memoize  (cost=0.16..1.07 rows=1 width=122) (actual time=0.001..0.001 rows=1 loops=29)"
                                },
                                {
                                    "QUERY PLAN": "                    Cache Key: a.cat_id"
                                },
                                {
                                    "QUERY PLAN": "                    Cache Mode: logical"
                                },
                                {
                                    "QUERY PLAN": "                    Hits: 21  Misses: 8  Evictions: 0  Overflows: 0  Memory Usage: 1kB"
                                },
                                {
                                    "QUERY PLAN": "                    Buffers: shared hit=16"
                                },
                                {
                                    "QUERY PLAN": "                    ->  Index Scan using category_pkey on category c  (cost=0.15..1.06 rows=1 width=122) (actual time=0.002..0.002 rows=1 loops=8)"
                                },
                                {
                                    "QUERY PLAN": "                          Index Cond: (cat_id = a.cat_id)"
                                },
                                {
                                    "QUERY PLAN": "                          Buffers: shared hit=16"
                                },
                                {
                                    "QUERY PLAN": "        ->  Memoize  (cost=0.16..1.07 rows=1 width=122) (actual time=0.001..0.001 rows=1 loops=29)"
                                },
                                {
                                    "QUERY PLAN": "              Cache Key: a.enc_id"
                                },
                                {
                                    "QUERY PLAN": "              Cache Mode: logical"
                                },
                                {
                                    "QUERY PLAN": "              Hits: 22  Misses: 7  Evictions: 0  Overflows: 0  Memory Usage: 1kB"
                                },
                                {
                                    "QUERY PLAN": "              Buffers: shared hit=14"
                                },
                                {
                                    "QUERY PLAN": "              ->  Index Scan using enclosure_pkey on enclosure e  (cost=0.15..1.06 rows=1 width=122) (actual time=0.002..0.002 rows=1 loops=7)"
                                },
                                {
                                    "QUERY PLAN": "                    Index Cond: (enc_id = a.enc_id)"
                                },
                                {
                                    "QUERY PLAN": "                    Buffers: shared hit=14"
                                },
                                {
                                    "QUERY PLAN": "Planning:"
                                },
                                {
                                    "QUERY PLAN": "  Buffers: shared hit=125"
                                },
                                {
                                    "QUERY PLAN": "Planning Time: 0.670 ms"
                                },
                                {
                                    "QUERY PLAN": "Execution Time: 0.482 ms"
                                }
                            ]
                        },
                        "text/html": "<table><tr><th>QUERY PLAN</th></tr><tr><td>Sort  (cost=20.62..20.69 rows=27 width=256) (actual time=0.320..0.323 rows=29 loops=1)</td></tr><tr><td>  Sort Key: a.ani_id</td></tr><tr><td>  Sort Method: quicksort  Memory: 27kB</td></tr><tr><td>  Buffers: shared hit=34 dirtied=1</td></tr><tr><td>  -&gt;  Nested Loop  (cost=0.32..19.98 rows=27 width=256) (actual time=0.247..0.287 rows=29 loops=1)</td></tr><tr><td>        Buffers: shared hit=31 dirtied=1</td></tr><tr><td>        -&gt;  Nested Loop  (cost=0.16..11.13 rows=27 width=142) (actual time=0.236..0.260 rows=29 loops=1)</td></tr><tr><td>              Buffers: shared hit=17 dirtied=1</td></tr><tr><td>              -&gt;  Seq Scan on animal a  (cost=0.00..1.27 rows=27 width=28) (actual time=0.215..0.218 rows=29 loops=1)</td></tr><tr><td>                    Buffers: shared hit=1 dirtied=1</td></tr><tr><td>              -&gt;  Memoize  (cost=0.16..1.07 rows=1 width=122) (actual time=0.001..0.001 rows=1 loops=29)</td></tr><tr><td>                    Cache Key: a.cat_id</td></tr><tr><td>                    Cache Mode: logical</td></tr><tr><td>                    Hits: 21  Misses: 8  Evictions: 0  Overflows: 0  Memory Usage: 1kB</td></tr><tr><td>                    Buffers: shared hit=16</td></tr><tr><td>                    -&gt;  Index Scan using category_pkey on category c  (cost=0.15..1.06 rows=1 width=122) (actual time=0.002..0.002 rows=1 loops=8)</td></tr><tr><td>                          Index Cond: (cat_id = a.cat_id)</td></tr><tr><td>                          Buffers: shared hit=16</td></tr><tr><td>        -&gt;  Memoize  (cost=0.16..1.07 rows=1 width=122) (actual time=0.001..0.001 rows=1 loops=29)</td></tr><tr><td>              Cache Key: a.enc_id</td></tr><tr><td>              Cache Mode: logical</td></tr><tr><td>              Hits: 22  Misses: 7  Evictions: 0  Overflows: 0  Memory Usage: 1kB</td></tr><tr><td>              Buffers: shared hit=14</td></tr><tr><td>              -&gt;  Index Scan using enclosure_pkey on enclosure e  (cost=0.15..1.06 rows=1 width=122) (actual time=0.002..0.002 rows=1 loops=7)</td></tr><tr><td>                    Index Cond: (enc_id = a.enc_id)</td></tr><tr><td>                    Buffers: shared hit=14</td></tr><tr><td>Planning:</td></tr><tr><td>  Buffers: shared hit=125</td></tr><tr><td>Planning Time: 0.670 ms</td></tr><tr><td>Execution Time: 0.482 ms</td></tr></table>"
                    },
                    "metadata": {}
                }
            ],
            "execution_count": 5
        },
        {
            "cell_type": "code",
            "source": [
                "EXPLAIN (ANALYZE, VERBOSE) SELECT A.ani_id, A.name, A.weight_kg, C.category, E.enclosure\r\n",
                "\tFROM animal AS A\r\n",
                "\t\tINNER JOIN category AS C\r\n",
                "\t\t\tON A.cat_id = C.cat_id\r\n",
                "\t\tINNER JOIN enclosure AS E\r\n",
                "\t\t\tON A.enc_id = E.enc_id\r\n",
                "\tORDER BY A.ani_id;"
            ],
            "metadata": {
                "language": "sql",
                "azdata_cell_guid": "bb505bfc-ef27-459e-97d6-be264e196550"
            },
            "outputs": [
                {
                    "output_type": "display_data",
                    "data": {
                        "text/html": "(31 row(s) affected)"
                    },
                    "metadata": {}
                },
                {
                    "output_type": "display_data",
                    "data": {
                        "text/html": "Total execution time: 00:00:00.065"
                    },
                    "metadata": {}
                },
                {
                    "output_type": "execute_result",
                    "execution_count": 6,
                    "data": {
                        "application/vnd.dataresource+json": {
                            "schema": {
                                "fields": [
                                    {
                                        "name": "QUERY PLAN"
                                    }
                                ]
                            },
                            "data": [
                                {
                                    "QUERY PLAN": "Sort  (cost=20.62..20.69 rows=27 width=256) (actual time=0.151..0.153 rows=29 loops=1)"
                                },
                                {
                                    "QUERY PLAN": "  Output: a.ani_id, a.name, a.weight_kg, c.category, e.enclosure"
                                },
                                {
                                    "QUERY PLAN": "  Sort Key: a.ani_id"
                                },
                                {
                                    "QUERY PLAN": "  Sort Method: quicksort  Memory: 27kB"
                                },
                                {
                                    "QUERY PLAN": "  ->  Nested Loop  (cost=0.32..19.98 rows=27 width=256) (actual time=0.059..0.136 rows=29 loops=1)"
                                },
                                {
                                    "QUERY PLAN": "        Output: a.ani_id, a.name, a.weight_kg, c.category, e.enclosure"
                                },
                                {
                                    "QUERY PLAN": "        Inner Unique: true"
                                },
                                {
                                    "QUERY PLAN": "        ->  Nested Loop  (cost=0.16..11.13 rows=27 width=142) (actual time=0.048..0.108 rows=29 loops=1)"
                                },
                                {
                                    "QUERY PLAN": "              Output: a.ani_id, a.name, a.weight_kg, a.enc_id, c.category"
                                },
                                {
                                    "QUERY PLAN": "              Inner Unique: true"
                                },
                                {
                                    "QUERY PLAN": "              ->  Seq Scan on public.animal a  (cost=0.00..1.27 rows=27 width=28) (actual time=0.015..0.018 rows=29 loops=1)"
                                },
                                {
                                    "QUERY PLAN": "                    Output: a.ani_id, a.name, a.weight_kg, a.cat_id, a.enc_id"
                                },
                                {
                                    "QUERY PLAN": "              ->  Memoize  (cost=0.16..1.07 rows=1 width=122) (actual time=0.002..0.002 rows=1 loops=29)"
                                },
                                {
                                    "QUERY PLAN": "                    Output: c.category, c.cat_id"
                                },
                                {
                                    "QUERY PLAN": "                    Cache Key: a.cat_id"
                                },
                                {
                                    "QUERY PLAN": "                    Cache Mode: logical"
                                },
                                {
                                    "QUERY PLAN": "                    Hits: 21  Misses: 8  Evictions: 0  Overflows: 0  Memory Usage: 1kB"
                                },
                                {
                                    "QUERY PLAN": "                    ->  Index Scan using category_pkey on public.category c  (cost=0.15..1.06 rows=1 width=122) (actual time=0.004..0.004 rows=1 loops=8)"
                                },
                                {
                                    "QUERY PLAN": "                          Output: c.category, c.cat_id"
                                },
                                {
                                    "QUERY PLAN": "                          Index Cond: (c.cat_id = a.cat_id)"
                                },
                                {
                                    "QUERY PLAN": "        ->  Memoize  (cost=0.16..1.07 rows=1 width=122) (actual time=0.001..0.001 rows=1 loops=29)"
                                },
                                {
                                    "QUERY PLAN": "              Output: e.enclosure, e.enc_id"
                                },
                                {
                                    "QUERY PLAN": "              Cache Key: a.enc_id"
                                },
                                {
                                    "QUERY PLAN": "              Cache Mode: logical"
                                },
                                {
                                    "QUERY PLAN": "              Hits: 22  Misses: 7  Evictions: 0  Overflows: 0  Memory Usage: 1kB"
                                },
                                {
                                    "QUERY PLAN": "              ->  Index Scan using enclosure_pkey on public.enclosure e  (cost=0.15..1.06 rows=1 width=122) (actual time=0.002..0.002 rows=1 loops=7)"
                                },
                                {
                                    "QUERY PLAN": "                    Output: e.enclosure, e.enc_id"
                                },
                                {
                                    "QUERY PLAN": "                    Index Cond: (e.enc_id = a.enc_id)"
                                },
                                {
                                    "QUERY PLAN": "Query Identifier: 2018630152267807745"
                                },
                                {
                                    "QUERY PLAN": "Planning Time: 0.241 ms"
                                },
                                {
                                    "QUERY PLAN": "Execution Time: 0.212 ms"
                                }
                            ]
                        },
                        "text/html": "<table><tr><th>QUERY PLAN</th></tr><tr><td>Sort  (cost=20.62..20.69 rows=27 width=256) (actual time=0.151..0.153 rows=29 loops=1)</td></tr><tr><td>  Output: a.ani_id, a.name, a.weight_kg, c.category, e.enclosure</td></tr><tr><td>  Sort Key: a.ani_id</td></tr><tr><td>  Sort Method: quicksort  Memory: 27kB</td></tr><tr><td>  -&gt;  Nested Loop  (cost=0.32..19.98 rows=27 width=256) (actual time=0.059..0.136 rows=29 loops=1)</td></tr><tr><td>        Output: a.ani_id, a.name, a.weight_kg, c.category, e.enclosure</td></tr><tr><td>        Inner Unique: true</td></tr><tr><td>        -&gt;  Nested Loop  (cost=0.16..11.13 rows=27 width=142) (actual time=0.048..0.108 rows=29 loops=1)</td></tr><tr><td>              Output: a.ani_id, a.name, a.weight_kg, a.enc_id, c.category</td></tr><tr><td>              Inner Unique: true</td></tr><tr><td>              -&gt;  Seq Scan on public.animal a  (cost=0.00..1.27 rows=27 width=28) (actual time=0.015..0.018 rows=29 loops=1)</td></tr><tr><td>                    Output: a.ani_id, a.name, a.weight_kg, a.cat_id, a.enc_id</td></tr><tr><td>              -&gt;  Memoize  (cost=0.16..1.07 rows=1 width=122) (actual time=0.002..0.002 rows=1 loops=29)</td></tr><tr><td>                    Output: c.category, c.cat_id</td></tr><tr><td>                    Cache Key: a.cat_id</td></tr><tr><td>                    Cache Mode: logical</td></tr><tr><td>                    Hits: 21  Misses: 8  Evictions: 0  Overflows: 0  Memory Usage: 1kB</td></tr><tr><td>                    -&gt;  Index Scan using category_pkey on public.category c  (cost=0.15..1.06 rows=1 width=122) (actual time=0.004..0.004 rows=1 loops=8)</td></tr><tr><td>                          Output: c.category, c.cat_id</td></tr><tr><td>                          Index Cond: (c.cat_id = a.cat_id)</td></tr><tr><td>        -&gt;  Memoize  (cost=0.16..1.07 rows=1 width=122) (actual time=0.001..0.001 rows=1 loops=29)</td></tr><tr><td>              Output: e.enclosure, e.enc_id</td></tr><tr><td>              Cache Key: a.enc_id</td></tr><tr><td>              Cache Mode: logical</td></tr><tr><td>              Hits: 22  Misses: 7  Evictions: 0  Overflows: 0  Memory Usage: 1kB</td></tr><tr><td>              -&gt;  Index Scan using enclosure_pkey on public.enclosure e  (cost=0.15..1.06 rows=1 width=122) (actual time=0.002..0.002 rows=1 loops=7)</td></tr><tr><td>                    Output: e.enclosure, e.enc_id</td></tr><tr><td>                    Index Cond: (e.enc_id = a.enc_id)</td></tr><tr><td>Query Identifier: 2018630152267807745</td></tr><tr><td>Planning Time: 0.241 ms</td></tr><tr><td>Execution Time: 0.212 ms</td></tr></table>"
                    },
                    "metadata": {}
                }
            ],
            "execution_count": 6
        },
        {
            "cell_type": "code",
            "source": [
                "EXPLAIN (Costs) SELECT A.ani_id, A.name, A.weight_kg, C.category, E.enclosure\r\n",
                "\tFROM animal AS A\r\n",
                "\t\tINNER JOIN category AS C\r\n",
                "\t\t\tON A.cat_id = C.cat_id\r\n",
                "\t\tINNER JOIN enclosure AS E\r\n",
                "\t\t\tON A.enc_id = E.enc_id\r\n",
                "\tORDER BY A.ani_id;"
            ],
            "metadata": {
                "azdata_cell_guid": "0530f5d7-b5a6-403e-a44e-d365e5f4b6c6",
                "language": "sql"
            },
            "outputs": [
                {
                    "output_type": "display_data",
                    "data": {
                        "text/html": "(15 row(s) affected)"
                    },
                    "metadata": {}
                },
                {
                    "output_type": "display_data",
                    "data": {
                        "text/html": "Total execution time: 00:00:00.078"
                    },
                    "metadata": {}
                },
                {
                    "output_type": "execute_result",
                    "execution_count": 7,
                    "data": {
                        "application/vnd.dataresource+json": {
                            "schema": {
                                "fields": [
                                    {
                                        "name": "QUERY PLAN"
                                    }
                                ]
                            },
                            "data": [
                                {
                                    "QUERY PLAN": "Sort  (cost=20.62..20.69 rows=27 width=256)"
                                },
                                {
                                    "QUERY PLAN": "  Sort Key: a.ani_id"
                                },
                                {
                                    "QUERY PLAN": "  ->  Nested Loop  (cost=0.32..19.98 rows=27 width=256)"
                                },
                                {
                                    "QUERY PLAN": "        ->  Nested Loop  (cost=0.16..11.13 rows=27 width=142)"
                                },
                                {
                                    "QUERY PLAN": "              ->  Seq Scan on animal a  (cost=0.00..1.27 rows=27 width=28)"
                                },
                                {
                                    "QUERY PLAN": "              ->  Memoize  (cost=0.16..1.07 rows=1 width=122)"
                                },
                                {
                                    "QUERY PLAN": "                    Cache Key: a.cat_id"
                                },
                                {
                                    "QUERY PLAN": "                    Cache Mode: logical"
                                },
                                {
                                    "QUERY PLAN": "                    ->  Index Scan using category_pkey on category c  (cost=0.15..1.06 rows=1 width=122)"
                                },
                                {
                                    "QUERY PLAN": "                          Index Cond: (cat_id = a.cat_id)"
                                },
                                {
                                    "QUERY PLAN": "        ->  Memoize  (cost=0.16..1.07 rows=1 width=122)"
                                },
                                {
                                    "QUERY PLAN": "              Cache Key: a.enc_id"
                                },
                                {
                                    "QUERY PLAN": "              Cache Mode: logical"
                                },
                                {
                                    "QUERY PLAN": "              ->  Index Scan using enclosure_pkey on enclosure e  (cost=0.15..1.06 rows=1 width=122)"
                                },
                                {
                                    "QUERY PLAN": "                    Index Cond: (enc_id = a.enc_id)"
                                }
                            ]
                        },
                        "text/html": "<table><tr><th>QUERY PLAN</th></tr><tr><td>Sort  (cost=20.62..20.69 rows=27 width=256)</td></tr><tr><td>  Sort Key: a.ani_id</td></tr><tr><td>  -&gt;  Nested Loop  (cost=0.32..19.98 rows=27 width=256)</td></tr><tr><td>        -&gt;  Nested Loop  (cost=0.16..11.13 rows=27 width=142)</td></tr><tr><td>              -&gt;  Seq Scan on animal a  (cost=0.00..1.27 rows=27 width=28)</td></tr><tr><td>              -&gt;  Memoize  (cost=0.16..1.07 rows=1 width=122)</td></tr><tr><td>                    Cache Key: a.cat_id</td></tr><tr><td>                    Cache Mode: logical</td></tr><tr><td>                    -&gt;  Index Scan using category_pkey on category c  (cost=0.15..1.06 rows=1 width=122)</td></tr><tr><td>                          Index Cond: (cat_id = a.cat_id)</td></tr><tr><td>        -&gt;  Memoize  (cost=0.16..1.07 rows=1 width=122)</td></tr><tr><td>              Cache Key: a.enc_id</td></tr><tr><td>              Cache Mode: logical</td></tr><tr><td>              -&gt;  Index Scan using enclosure_pkey on enclosure e  (cost=0.15..1.06 rows=1 width=122)</td></tr><tr><td>                    Index Cond: (enc_id = a.enc_id)</td></tr></table>"
                    },
                    "metadata": {}
                }
            ],
            "execution_count": 7
        }
    ]
}