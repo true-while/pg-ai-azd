{
    "metadata": {
        "kernelspec": {
            "name": "SQL",
            "display_name": "SQL",
            "language": "sql"
        },
        "language_info": {
            "name": "sql",
            "version": ""
        }
    },
    "nbformat_minor": 2,
    "nbformat": 4,
    "cells": [
        {
            "cell_type": "markdown",
            "source": [
                "## **Create and store embedding vectors**"
            ],
            "metadata": {
                "azdata_cell_guid": "43439e8c-55a2-492b-87ed-ecdc8543c71f"
            },
            "attachments": {}
        },
        {
            "cell_type": "code",
            "source": [
                "ALTER TABLE listings ADD COLUMN listing_vector vector(1536);\r\n",
                "\r\n",
                "UPDATE listings\r\n",
                "SET listing_vector = azure_openai.create_embeddings('embedding', description, max_attempts => 5, retry_delay_ms => 500)\r\n",
                "WHERE listing_vector IS NULL;\r\n",
                "\r\n",
                "SELECT listing_vector FROM listings LIMIT 1;"
            ],
            "metadata": {
                "azdata_cell_guid": "11b22b24-4886-4713-ba64-0cf01f1c6321",
                "language": "sql"
            },
            "outputs": [
                {
                    "output_type": "error",
                    "evalue": "column \"listing_vector\" of relation \"listings\" already exists",
                    "ename": "",
                    "traceback": []
                },
                {
                    "output_type": "display_data",
                    "data": {
                        "text/html": "Total execution time: 00:00:00.099"
                    },
                    "metadata": {}
                }
            ],
            "execution_count": 4
        },
        {
            "cell_type": "markdown",
            "source": [
                "## **Create the recommendation function**"
            ],
            "metadata": {
                "language": "sql",
                "azdata_cell_guid": "885c84d2-a60e-49a9-939e-9eed903a08e9"
            },
            "attachments": {}
        },
        {
            "cell_type": "code",
            "source": [
                "CREATE OR REPLACE FUNCTION\r\n",
                "    recommend_listing(sampleListingId int, numResults int) \r\n",
                "RETURNS TABLE(\r\n",
                "    out_listingName text,\r\n",
                "    out_listingDescription text,\r\n",
                "    out_score real\r\n",
                ")\r\n",
                "AS $$\r\n",
                "DECLARE\r\n",
                "    queryEmbedding vector(1536); \r\n",
                "    sampleListingText text; \r\n",
                "BEGIN \r\n",
                "    sampleListingText := (\r\n",
                "        SELECT name || ' ' || description\r\n",
                "        FROM listings WHERE id = sampleListingId\r\n",
                "    ); \r\n",
                "\r\n",
                "    queryEmbedding := (\r\n",
                "        azure_openai.create_embeddings('embedding', sampleListingText, max_attempts => 5, retry_delay_ms => 500)\r\n",
                "    );\r\n",
                "\r\n",
                "    RETURN QUERY \r\n",
                "    SELECT\r\n",
                "        name::text,\r\n",
                "        description,\r\n",
                "        (listings.listing_vector <=> queryEmbedding)::real AS score\r\n",
                "    FROM\r\n",
                "        listings \r\n",
                "    ORDER BY score ASC LIMIT numResults;\r\n",
                "END;\r\n",
                "$$\r\n",
                "LANGUAGE plpgsql;"
            ],
            "metadata": {
                "azdata_cell_guid": "ea6a2019-6a82-4efa-ba3e-b3aca0ca05b9",
                "language": "sql"
            },
            "outputs": [
                {
                    "output_type": "display_data",
                    "data": {
                        "text/html": "CREATE FUNCTION"
                    },
                    "metadata": {}
                },
                {
                    "output_type": "display_data",
                    "data": {
                        "text/html": "Total execution time: 00:00:00.100"
                    },
                    "metadata": {}
                }
            ],
            "execution_count": 8
        },
        {
            "cell_type": "markdown",
            "source": [
                "**search for 20 listing recommendations closest to a listing**"
            ],
            "metadata": {
                "language": "sql",
                "azdata_cell_guid": "38e1db95-8b77-4b5a-a061-4e51d00b431d"
            },
            "attachments": {}
        },
        {
            "cell_type": "code",
            "source": [
                "select out_listingName, out_score \r\n",
                "   from recommend_listing( \r\n",
                "    (SELECT id from listings limit 1), \r\n",
                "    20); "
            ],
            "metadata": {
                "language": "sql",
                "azdata_cell_guid": "ab38d9d8-5b8c-4a77-aa54-a469a5d6243f"
            },
            "outputs": [
                {
                    "output_type": "display_data",
                    "data": {
                        "text/html": "(20 row(s) affected)"
                    },
                    "metadata": {}
                },
                {
                    "output_type": "display_data",
                    "data": {
                        "text/html": "Total execution time: 00:00:00.341"
                    },
                    "metadata": {}
                },
                {
                    "output_type": "execute_result",
                    "metadata": {},
                    "execution_count": 9,
                    "data": {
                        "application/vnd.dataresource+json": {
                            "schema": {
                                "fields": [
                                    {
                                        "name": "out_listingname"
                                    },
                                    {
                                        "name": "out_score"
                                    }
                                ]
                            },
                            "data": [
                                {
                                    "out_listingname": "Apt on Lake Union",
                                    "out_score": "0.0054389243"
                                },
                                {
                                    "out_listingname": "Private 1BR apartment",
                                    "out_score": "0.11501355"
                                },
                                {
                                    "out_listingname": "Cozy 1BD in Storybook Home",
                                    "out_score": "0.11690235"
                                },
                                {
                                    "out_listingname": "Breeze B&B",
                                    "out_score": "0.12103066"
                                },
                                {
                                    "out_listingname": "Lovely 2 BR Cottage",
                                    "out_score": "0.12243493"
                                },
                                {
                                    "out_listingname": "Lower Queen Anne Studio",
                                    "out_score": "0.122817874"
                                },
                                {
                                    "out_listingname": "Wallingford Craftsman Apt",
                                    "out_score": "0.123370305"
                                },
                                {
                                    "out_listingname": "City Bedroom and Den",
                                    "out_score": "0.12375991"
                                },
                                {
                                    "out_listingname": "Stylish One-Bedroom Apartment",
                                    "out_score": "0.12447192"
                                },
                                {
                                    "out_listingname": "Retro 1BR Greenlake Apt",
                                    "out_score": "0.12581536"
                                },
                                {
                                    "out_listingname": "Best Location Ever!",
                                    "out_score": "0.12582535"
                                },
                                {
                                    "out_listingname": "Craftsman Home 1 block from Lake!",
                                    "out_score": "0.12710233"
                                },
                                {
                                    "out_listingname": "Private garden room",
                                    "out_score": "0.12838943"
                                },
                                {
                                    "out_listingname": "Stylish 1BR Apt",
                                    "out_score": "0.12920953"
                                },
                                {
                                    "out_listingname": "Open Airy Condo",
                                    "out_score": "0.12964192"
                                },
                                {
                                    "out_listingname": "Retro Flat",
                                    "out_score": "0.13009128"
                                },
                                {
                                    "out_listingname": "City & Lake Views - Shared",
                                    "out_score": "0.13140522"
                                },
                                {
                                    "out_listingname": "Cozy apartment in Green Lake",
                                    "out_score": "0.1332562"
                                },
                                {
                                    "out_listingname": "Bright New Studio",
                                    "out_score": "0.13448597"
                                },
                                {
                                    "out_listingname": "Quiet Room in house",
                                    "out_score": "0.13593552"
                                }
                            ]
                        },
                        "text/html": [
                            "<table>",
                            "<tr><th>out_listingname</th><th>out_score</th></tr>",
                            "<tr><td>Apt on Lake Union</td><td>0.0054389243</td></tr>",
                            "<tr><td>Private 1BR apartment</td><td>0.11501355</td></tr>",
                            "<tr><td>Cozy 1BD in Storybook Home</td><td>0.11690235</td></tr>",
                            "<tr><td>Breeze B&amp;B</td><td>0.12103066</td></tr>",
                            "<tr><td>Lovely 2 BR Cottage</td><td>0.12243493</td></tr>",
                            "<tr><td>Lower Queen Anne Studio</td><td>0.122817874</td></tr>",
                            "<tr><td>Wallingford Craftsman Apt</td><td>0.123370305</td></tr>",
                            "<tr><td>City Bedroom and Den</td><td>0.12375991</td></tr>",
                            "<tr><td>Stylish One-Bedroom Apartment</td><td>0.12447192</td></tr>",
                            "<tr><td>Retro 1BR Greenlake Apt</td><td>0.12581536</td></tr>",
                            "<tr><td>Best Location Ever!</td><td>0.12582535</td></tr>",
                            "<tr><td>Craftsman Home 1 block from Lake!</td><td>0.12710233</td></tr>",
                            "<tr><td>Private garden room</td><td>0.12838943</td></tr>",
                            "<tr><td>Stylish 1BR Apt</td><td>0.12920953</td></tr>",
                            "<tr><td>Open Airy Condo</td><td>0.12964192</td></tr>",
                            "<tr><td>Retro Flat</td><td>0.13009128</td></tr>",
                            "<tr><td>City &amp; Lake Views - Shared</td><td>0.13140522</td></tr>",
                            "<tr><td>Cozy apartment in Green Lake</td><td>0.1332562</td></tr>",
                            "<tr><td>Bright New Studio</td><td>0.13448597</td></tr>",
                            "<tr><td>Quiet Room in house</td><td>0.13593552</td></tr>",
                            "</table>"
                        ]
                    }
                }
            ],
            "execution_count": 9
        }
    ]
}