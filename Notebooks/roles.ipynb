{
    "metadata": {
        "kernelspec": {
            "name": "SQL",
            "display_name": "SQL",
            "language": "sql"
        },
        "language_info": {
            "name": "sql",
            "version": ""
        }
    },
    "nbformat_minor": 2,
    "nbformat": 4,
    "cells": [
        {
            "cell_type": "markdown",
            "source": [
                "# PostgreSQL server roles"
            ],
            "metadata": {
                "azdata_cell_guid": "f823c706-60b0-4149-89a7-50eb1c146758"
            },
            "attachments": {}
        },
        {
            "cell_type": "code",
            "source": [
                "SELECT * FROM pg_roles;"
            ],
            "metadata": {
                "azdata_cell_guid": "c293bb14-10a7-41cd-9c18-6d6d098bedf4",
                "language": "sql"
            },
            "outputs": [
                {
                    "output_type": "display_data",
                    "data": {
                        "text/html": "(23 row(s) affected)"
                    },
                    "metadata": {}
                },
                {
                    "output_type": "display_data",
                    "data": {
                        "text/html": "Total execution time: 00:00:00.061"
                    },
                    "metadata": {}
                },
                {
                    "output_type": "execute_result",
                    "execution_count": 1,
                    "data": {
                        "application/vnd.dataresource+json": {
                            "schema": {
                                "fields": [
                                    {
                                        "name": "rolname"
                                    },
                                    {
                                        "name": "rolsuper"
                                    },
                                    {
                                        "name": "rolinherit"
                                    },
                                    {
                                        "name": "rolcreaterole"
                                    },
                                    {
                                        "name": "rolcreatedb"
                                    },
                                    {
                                        "name": "rolcanlogin"
                                    },
                                    {
                                        "name": "rolreplication"
                                    },
                                    {
                                        "name": "rolconnlimit"
                                    },
                                    {
                                        "name": "rolpassword"
                                    },
                                    {
                                        "name": "rolvaliduntil"
                                    },
                                    {
                                        "name": "rolbypassrls"
                                    },
                                    {
                                        "name": "rolconfig"
                                    },
                                    {
                                        "name": "oid"
                                    }
                                ]
                            },
                            "data": [
                                {
                                    "rolname": "azuresu",
                                    "rolsuper": "True",
                                    "rolinherit": "True",
                                    "rolcreaterole": "True",
                                    "rolcreatedb": "True",
                                    "rolcanlogin": "True",
                                    "rolreplication": "True",
                                    "rolconnlimit": "-1",
                                    "rolpassword": "********",
                                    "rolvaliduntil": "NULL",
                                    "rolbypassrls": "True",
                                    "rolconfig": "[\"search_path=pg_catalog\"]",
                                    "oid": "10"
                                },
                                {
                                    "rolname": "pg_database_owner",
                                    "rolsuper": "False",
                                    "rolinherit": "True",
                                    "rolcreaterole": "False",
                                    "rolcreatedb": "False",
                                    "rolcanlogin": "False",
                                    "rolreplication": "False",
                                    "rolconnlimit": "-1",
                                    "rolpassword": "********",
                                    "rolvaliduntil": "NULL",
                                    "rolbypassrls": "False",
                                    "rolconfig": "NULL",
                                    "oid": "6171"
                                },
                                {
                                    "rolname": "pg_read_all_data",
                                    "rolsuper": "False",
                                    "rolinherit": "True",
                                    "rolcreaterole": "False",
                                    "rolcreatedb": "False",
                                    "rolcanlogin": "False",
                                    "rolreplication": "False",
                                    "rolconnlimit": "-1",
                                    "rolpassword": "********",
                                    "rolvaliduntil": "NULL",
                                    "rolbypassrls": "False",
                                    "rolconfig": "NULL",
                                    "oid": "6181"
                                },
                                {
                                    "rolname": "pg_write_all_data",
                                    "rolsuper": "False",
                                    "rolinherit": "True",
                                    "rolcreaterole": "False",
                                    "rolcreatedb": "False",
                                    "rolcanlogin": "False",
                                    "rolreplication": "False",
                                    "rolconnlimit": "-1",
                                    "rolpassword": "********",
                                    "rolvaliduntil": "NULL",
                                    "rolbypassrls": "False",
                                    "rolconfig": "NULL",
                                    "oid": "6182"
                                },
                                {
                                    "rolname": "pg_monitor",
                                    "rolsuper": "False",
                                    "rolinherit": "True",
                                    "rolcreaterole": "False",
                                    "rolcreatedb": "False",
                                    "rolcanlogin": "False",
                                    "rolreplication": "False",
                                    "rolconnlimit": "-1",
                                    "rolpassword": "********",
                                    "rolvaliduntil": "NULL",
                                    "rolbypassrls": "False",
                                    "rolconfig": "NULL",
                                    "oid": "3373"
                                },
                                {
                                    "rolname": "pg_read_all_settings",
                                    "rolsuper": "False",
                                    "rolinherit": "True",
                                    "rolcreaterole": "False",
                                    "rolcreatedb": "False",
                                    "rolcanlogin": "False",
                                    "rolreplication": "False",
                                    "rolconnlimit": "-1",
                                    "rolpassword": "********",
                                    "rolvaliduntil": "NULL",
                                    "rolbypassrls": "False",
                                    "rolconfig": "NULL",
                                    "oid": "3374"
                                },
                                {
                                    "rolname": "pg_read_all_stats",
                                    "rolsuper": "False",
                                    "rolinherit": "True",
                                    "rolcreaterole": "False",
                                    "rolcreatedb": "False",
                                    "rolcanlogin": "False",
                                    "rolreplication": "False",
                                    "rolconnlimit": "-1",
                                    "rolpassword": "********",
                                    "rolvaliduntil": "NULL",
                                    "rolbypassrls": "False",
                                    "rolconfig": "NULL",
                                    "oid": "3375"
                                },
                                {
                                    "rolname": "pg_stat_scan_tables",
                                    "rolsuper": "False",
                                    "rolinherit": "True",
                                    "rolcreaterole": "False",
                                    "rolcreatedb": "False",
                                    "rolcanlogin": "False",
                                    "rolreplication": "False",
                                    "rolconnlimit": "-1",
                                    "rolpassword": "********",
                                    "rolvaliduntil": "NULL",
                                    "rolbypassrls": "False",
                                    "rolconfig": "NULL",
                                    "oid": "3377"
                                },
                                {
                                    "rolname": "pg_read_server_files",
                                    "rolsuper": "False",
                                    "rolinherit": "True",
                                    "rolcreaterole": "False",
                                    "rolcreatedb": "False",
                                    "rolcanlogin": "False",
                                    "rolreplication": "False",
                                    "rolconnlimit": "-1",
                                    "rolpassword": "********",
                                    "rolvaliduntil": "NULL",
                                    "rolbypassrls": "False",
                                    "rolconfig": "NULL",
                                    "oid": "4569"
                                },
                                {
                                    "rolname": "pg_write_server_files",
                                    "rolsuper": "False",
                                    "rolinherit": "True",
                                    "rolcreaterole": "False",
                                    "rolcreatedb": "False",
                                    "rolcanlogin": "False",
                                    "rolreplication": "False",
                                    "rolconnlimit": "-1",
                                    "rolpassword": "********",
                                    "rolvaliduntil": "NULL",
                                    "rolbypassrls": "False",
                                    "rolconfig": "NULL",
                                    "oid": "4570"
                                },
                                {
                                    "rolname": "pg_execute_server_program",
                                    "rolsuper": "False",
                                    "rolinherit": "True",
                                    "rolcreaterole": "False",
                                    "rolcreatedb": "False",
                                    "rolcanlogin": "False",
                                    "rolreplication": "False",
                                    "rolconnlimit": "-1",
                                    "rolpassword": "********",
                                    "rolvaliduntil": "NULL",
                                    "rolbypassrls": "False",
                                    "rolconfig": "NULL",
                                    "oid": "4571"
                                },
                                {
                                    "rolname": "pg_signal_backend",
                                    "rolsuper": "False",
                                    "rolinherit": "True",
                                    "rolcreaterole": "False",
                                    "rolcreatedb": "False",
                                    "rolcanlogin": "False",
                                    "rolreplication": "False",
                                    "rolconnlimit": "-1",
                                    "rolpassword": "********",
                                    "rolvaliduntil": "NULL",
                                    "rolbypassrls": "False",
                                    "rolconfig": "NULL",
                                    "oid": "4200"
                                },
                                {
                                    "rolname": "pg_checkpoint",
                                    "rolsuper": "False",
                                    "rolinherit": "True",
                                    "rolcreaterole": "False",
                                    "rolcreatedb": "False",
                                    "rolcanlogin": "False",
                                    "rolreplication": "False",
                                    "rolconnlimit": "-1",
                                    "rolpassword": "********",
                                    "rolvaliduntil": "NULL",
                                    "rolbypassrls": "False",
                                    "rolconfig": "NULL",
                                    "oid": "4544"
                                },
                                {
                                    "rolname": "pg_use_reserved_connections",
                                    "rolsuper": "False",
                                    "rolinherit": "True",
                                    "rolcreaterole": "False",
                                    "rolcreatedb": "False",
                                    "rolcanlogin": "False",
                                    "rolreplication": "False",
                                    "rolconnlimit": "-1",
                                    "rolpassword": "********",
                                    "rolvaliduntil": "NULL",
                                    "rolbypassrls": "False",
                                    "rolconfig": "NULL",
                                    "oid": "4550"
                                },
                                {
                                    "rolname": "pg_create_subscription",
                                    "rolsuper": "False",
                                    "rolinherit": "True",
                                    "rolcreaterole": "False",
                                    "rolcreatedb": "False",
                                    "rolcanlogin": "False",
                                    "rolreplication": "False",
                                    "rolconnlimit": "-1",
                                    "rolpassword": "********",
                                    "rolvaliduntil": "NULL",
                                    "rolbypassrls": "False",
                                    "rolconfig": "NULL",
                                    "oid": "6304"
                                },
                                {
                                    "rolname": "pg_signal_autovacuum_worker",
                                    "rolsuper": "False",
                                    "rolinherit": "True",
                                    "rolcreaterole": "False",
                                    "rolcreatedb": "False",
                                    "rolcanlogin": "False",
                                    "rolreplication": "False",
                                    "rolconnlimit": "-1",
                                    "rolpassword": "********",
                                    "rolvaliduntil": "NULL",
                                    "rolbypassrls": "False",
                                    "rolconfig": "NULL",
                                    "oid": "8916"
                                },
                                {
                                    "rolname": "azure_pg_admin",
                                    "rolsuper": "False",
                                    "rolinherit": "True",
                                    "rolcreaterole": "False",
                                    "rolcreatedb": "False",
                                    "rolcanlogin": "False",
                                    "rolreplication": "False",
                                    "rolconnlimit": "-1",
                                    "rolpassword": "********",
                                    "rolvaliduntil": "NULL",
                                    "rolbypassrls": "False",
                                    "rolconfig": "NULL",
                                    "oid": "16385"
                                },
                                {
                                    "rolname": "replication",
                                    "rolsuper": "False",
                                    "rolinherit": "True",
                                    "rolcreaterole": "False",
                                    "rolcreatedb": "False",
                                    "rolcanlogin": "True",
                                    "rolreplication": "True",
                                    "rolconnlimit": "-1",
                                    "rolpassword": "********",
                                    "rolvaliduntil": "NULL",
                                    "rolbypassrls": "False",
                                    "rolconfig": "NULL",
                                    "oid": "16396"
                                },
                                {
                                    "rolname": "azure_ai_settings_manager",
                                    "rolsuper": "False",
                                    "rolinherit": "True",
                                    "rolcreaterole": "False",
                                    "rolcreatedb": "False",
                                    "rolcanlogin": "False",
                                    "rolreplication": "False",
                                    "rolconnlimit": "-1",
                                    "rolpassword": "********",
                                    "rolvaliduntil": "NULL",
                                    "rolbypassrls": "False",
                                    "rolconfig": "NULL",
                                    "oid": "24923"
                                },
                                {
                                    "rolname": "new_user",
                                    "rolsuper": "False",
                                    "rolinherit": "True",
                                    "rolcreaterole": "True",
                                    "rolcreatedb": "True",
                                    "rolcanlogin": "True",
                                    "rolreplication": "False",
                                    "rolconnlimit": "-1",
                                    "rolpassword": "********",
                                    "rolvaliduntil": "NULL",
                                    "rolbypassrls": "False",
                                    "rolconfig": "NULL",
                                    "oid": "32778"
                                },
                                {
                                    "rolname": "demo_role",
                                    "rolsuper": "False",
                                    "rolinherit": "True",
                                    "rolcreaterole": "False",
                                    "rolcreatedb": "True",
                                    "rolcanlogin": "True",
                                    "rolreplication": "False",
                                    "rolconnlimit": "-1",
                                    "rolpassword": "********",
                                    "rolvaliduntil": "NULL",
                                    "rolbypassrls": "False",
                                    "rolconfig": "NULL",
                                    "oid": "32782"
                                },
                                {
                                    "rolname": "demo_user",
                                    "rolsuper": "False",
                                    "rolinherit": "True",
                                    "rolcreaterole": "False",
                                    "rolcreatedb": "True",
                                    "rolcanlogin": "True",
                                    "rolreplication": "False",
                                    "rolconnlimit": "-1",
                                    "rolpassword": "********",
                                    "rolvaliduntil": "NULL",
                                    "rolbypassrls": "False",
                                    "rolconfig": "NULL",
                                    "oid": "32784"
                                },
                                {
                                    "rolname": "pgAdmin",
                                    "rolsuper": "False",
                                    "rolinherit": "True",
                                    "rolcreaterole": "True",
                                    "rolcreatedb": "True",
                                    "rolcanlogin": "True",
                                    "rolreplication": "True",
                                    "rolconnlimit": "-1",
                                    "rolpassword": "********",
                                    "rolvaliduntil": "NULL",
                                    "rolbypassrls": "True",
                                    "rolconfig": "NULL",
                                    "oid": "24607"
                                }
                            ]
                        },
                        "text/html": "<table><tr><th>rolname</th><th>rolsuper</th><th>rolinherit</th><th>rolcreaterole</th><th>rolcreatedb</th><th>rolcanlogin</th><th>rolreplication</th><th>rolconnlimit</th><th>rolpassword</th><th>rolvaliduntil</th><th>rolbypassrls</th><th>rolconfig</th><th>oid</th></tr><tr><td>azuresu</td><td>True</td><td>True</td><td>True</td><td>True</td><td>True</td><td>True</td><td>-1</td><td>********</td><td>NULL</td><td>True</td><td>[&quot;search_path=pg_catalog&quot;]</td><td>10</td></tr><tr><td>pg_database_owner</td><td>False</td><td>True</td><td>False</td><td>False</td><td>False</td><td>False</td><td>-1</td><td>********</td><td>NULL</td><td>False</td><td>NULL</td><td>6171</td></tr><tr><td>pg_read_all_data</td><td>False</td><td>True</td><td>False</td><td>False</td><td>False</td><td>False</td><td>-1</td><td>********</td><td>NULL</td><td>False</td><td>NULL</td><td>6181</td></tr><tr><td>pg_write_all_data</td><td>False</td><td>True</td><td>False</td><td>False</td><td>False</td><td>False</td><td>-1</td><td>********</td><td>NULL</td><td>False</td><td>NULL</td><td>6182</td></tr><tr><td>pg_monitor</td><td>False</td><td>True</td><td>False</td><td>False</td><td>False</td><td>False</td><td>-1</td><td>********</td><td>NULL</td><td>False</td><td>NULL</td><td>3373</td></tr><tr><td>pg_read_all_settings</td><td>False</td><td>True</td><td>False</td><td>False</td><td>False</td><td>False</td><td>-1</td><td>********</td><td>NULL</td><td>False</td><td>NULL</td><td>3374</td></tr><tr><td>pg_read_all_stats</td><td>False</td><td>True</td><td>False</td><td>False</td><td>False</td><td>False</td><td>-1</td><td>********</td><td>NULL</td><td>False</td><td>NULL</td><td>3375</td></tr><tr><td>pg_stat_scan_tables</td><td>False</td><td>True</td><td>False</td><td>False</td><td>False</td><td>False</td><td>-1</td><td>********</td><td>NULL</td><td>False</td><td>NULL</td><td>3377</td></tr><tr><td>pg_read_server_files</td><td>False</td><td>True</td><td>False</td><td>False</td><td>False</td><td>False</td><td>-1</td><td>********</td><td>NULL</td><td>False</td><td>NULL</td><td>4569</td></tr><tr><td>pg_write_server_files</td><td>False</td><td>True</td><td>False</td><td>False</td><td>False</td><td>False</td><td>-1</td><td>********</td><td>NULL</td><td>False</td><td>NULL</td><td>4570</td></tr><tr><td>pg_execute_server_program</td><td>False</td><td>True</td><td>False</td><td>False</td><td>False</td><td>False</td><td>-1</td><td>********</td><td>NULL</td><td>False</td><td>NULL</td><td>4571</td></tr><tr><td>pg_signal_backend</td><td>False</td><td>True</td><td>False</td><td>False</td><td>False</td><td>False</td><td>-1</td><td>********</td><td>NULL</td><td>False</td><td>NULL</td><td>4200</td></tr><tr><td>pg_checkpoint</td><td>False</td><td>True</td><td>False</td><td>False</td><td>False</td><td>False</td><td>-1</td><td>********</td><td>NULL</td><td>False</td><td>NULL</td><td>4544</td></tr><tr><td>pg_use_reserved_connections</td><td>False</td><td>True</td><td>False</td><td>False</td><td>False</td><td>False</td><td>-1</td><td>********</td><td>NULL</td><td>False</td><td>NULL</td><td>4550</td></tr><tr><td>pg_create_subscription</td><td>False</td><td>True</td><td>False</td><td>False</td><td>False</td><td>False</td><td>-1</td><td>********</td><td>NULL</td><td>False</td><td>NULL</td><td>6304</td></tr><tr><td>pg_signal_autovacuum_worker</td><td>False</td><td>True</td><td>False</td><td>False</td><td>False</td><td>False</td><td>-1</td><td>********</td><td>NULL</td><td>False</td><td>NULL</td><td>8916</td></tr><tr><td>azure_pg_admin</td><td>False</td><td>True</td><td>False</td><td>False</td><td>False</td><td>False</td><td>-1</td><td>********</td><td>NULL</td><td>False</td><td>NULL</td><td>16385</td></tr><tr><td>replication</td><td>False</td><td>True</td><td>False</td><td>False</td><td>True</td><td>True</td><td>-1</td><td>********</td><td>NULL</td><td>False</td><td>NULL</td><td>16396</td></tr><tr><td>azure_ai_settings_manager</td><td>False</td><td>True</td><td>False</td><td>False</td><td>False</td><td>False</td><td>-1</td><td>********</td><td>NULL</td><td>False</td><td>NULL</td><td>24923</td></tr><tr><td>new_user</td><td>False</td><td>True</td><td>True</td><td>True</td><td>True</td><td>False</td><td>-1</td><td>********</td><td>NULL</td><td>False</td><td>NULL</td><td>32778</td></tr><tr><td>demo_role</td><td>False</td><td>True</td><td>False</td><td>True</td><td>True</td><td>False</td><td>-1</td><td>********</td><td>NULL</td><td>False</td><td>NULL</td><td>32782</td></tr><tr><td>demo_user</td><td>False</td><td>True</td><td>False</td><td>True</td><td>True</td><td>False</td><td>-1</td><td>********</td><td>NULL</td><td>False</td><td>NULL</td><td>32784</td></tr><tr><td>pgAdmin</td><td>False</td><td>True</td><td>True</td><td>True</td><td>True</td><td>True</td><td>-1</td><td>********</td><td>NULL</td><td>True</td><td>NULL</td><td>24607</td></tr></table>"
                    },
                    "metadata": {}
                }
            ],
            "execution_count": 1
        },
        {
            "cell_type": "code",
            "source": [
                "-- create user in azure_pg_admin\r\n",
                "\r\n",
                "CREATE ROLE new_user WITH LOGIN NOSUPERUSER INHERIT CREATEDB CREATEROLE NOREPLICATION PASSWORD 'P@ssw0rd';\r\n",
                "GRANT azure_pg_admin TO new_user;"
            ],
            "metadata": {
                "azdata_cell_guid": "63f602e8-ba69-4217-82b5-510c5e79ca9e",
                "language": "sql"
            },
            "outputs": [
                {
                    "output_type": "display_data",
                    "data": {
                        "text/html": "GRANT ROLE"
                    },
                    "metadata": {}
                },
                {
                    "output_type": "display_data",
                    "data": {
                        "text/html": "Total execution time: 00:00:00.039"
                    },
                    "metadata": {}
                }
            ],
            "execution_count": 6
        },
        {
            "cell_type": "code",
            "source": [
                "CREATE ROLE new_user1 WITH LOGIN SUPERUSER "
            ],
            "metadata": {
                "azdata_cell_guid": "1fe12ab5-5124-40aa-af82-2b2eb5063d00",
                "language": "sql"
            },
            "outputs": [
                {
                    "output_type": "error",
                    "ename": "",
                    "evalue": "must be superuser to create superusers",
                    "traceback": []
                },
                {
                    "output_type": "display_data",
                    "data": {
                        "text/html": "Total execution time: 00:00:00.030"
                    },
                    "metadata": {}
                }
            ],
            "execution_count": 2
        },
        {
            "cell_type": "code",
            "source": [
                "-- list users roles\r\n",
                "SELECT rolname FROM pg_roles WHERE pg_has_role('new_user', oid, 'member');\r\n",
                ""
            ],
            "metadata": {
                "azdata_cell_guid": "b4bbb45a-aa6e-44b5-b50d-31a6e1680bab",
                "language": "sql"
            },
            "outputs": [
                {
                    "output_type": "display_data",
                    "data": {
                        "text/html": "(13 row(s) affected)"
                    },
                    "metadata": {}
                },
                {
                    "output_type": "display_data",
                    "data": {
                        "text/html": "Total execution time: 00:00:00.060"
                    },
                    "metadata": {}
                },
                {
                    "output_type": "execute_result",
                    "execution_count": 10,
                    "data": {
                        "application/vnd.dataresource+json": {
                            "schema": {
                                "fields": [
                                    {
                                        "name": "rolname"
                                    }
                                ]
                            },
                            "data": [
                                {
                                    "rolname": "pg_database_owner"
                                },
                                {
                                    "rolname": "pg_read_all_data"
                                },
                                {
                                    "rolname": "pg_monitor"
                                },
                                {
                                    "rolname": "pg_read_all_settings"
                                },
                                {
                                    "rolname": "pg_read_all_stats"
                                },
                                {
                                    "rolname": "pg_stat_scan_tables"
                                },
                                {
                                    "rolname": "pg_signal_backend"
                                },
                                {
                                    "rolname": "pg_checkpoint"
                                },
                                {
                                    "rolname": "pg_create_subscription"
                                },
                                {
                                    "rolname": "pg_signal_autovacuum_worker"
                                },
                                {
                                    "rolname": "azure_pg_admin"
                                },
                                {
                                    "rolname": "azure_ai_settings_manager"
                                },
                                {
                                    "rolname": "new_user"
                                }
                            ]
                        },
                        "text/html": "<table><tr><th>rolname</th></tr><tr><td>pg_database_owner</td></tr><tr><td>pg_read_all_data</td></tr><tr><td>pg_monitor</td></tr><tr><td>pg_read_all_settings</td></tr><tr><td>pg_read_all_stats</td></tr><tr><td>pg_stat_scan_tables</td></tr><tr><td>pg_signal_backend</td></tr><tr><td>pg_checkpoint</td></tr><tr><td>pg_create_subscription</td></tr><tr><td>pg_signal_autovacuum_worker</td></tr><tr><td>azure_pg_admin</td></tr><tr><td>azure_ai_settings_manager</td></tr><tr><td>new_user</td></tr></table>"
                    },
                    "metadata": {}
                }
            ],
            "execution_count": 10
        },
        {
            "cell_type": "markdown",
            "source": [
                "**Create custom roles**"
            ],
            "metadata": {
                "azdata_cell_guid": "e9feed86-ab67-4a30-ab35-c866b6c248a4"
            },
            "attachments": {}
        },
        {
            "cell_type": "code",
            "source": [
                "CREATE DATABASE testdb;"
            ],
            "metadata": {
                "azdata_cell_guid": "04cabb0f-9073-43cc-94e8-bf539a4333f7",
                "language": "sql"
            },
            "outputs": [
                {
                    "output_type": "display_data",
                    "data": {
                        "text/html": "CREATE DATABASE"
                    },
                    "metadata": {}
                },
                {
                    "output_type": "display_data",
                    "data": {
                        "text/html": "Total execution time: 00:00:01.924"
                    },
                    "metadata": {}
                }
            ],
            "execution_count": 17
        },
        {
            "cell_type": "code",
            "source": [
                "--must manualy switch DB\r\n",
                "CREATE ROLE demo_user WITH LOGIN NOSUPERUSER INHERIT CREATEDB NOCREATEROLE NOREPLICATION PASSWORD 'P@ssw0rd';\r\n",
                "GRANT CONNECT ON DATABASE testdb TO demo_user;"
            ],
            "metadata": {
                "azdata_cell_guid": "32d99202-cccc-479b-a6ca-f874b759ad8c",
                "language": "sql",
                "tags": []
            },
            "outputs": [
                {
                    "output_type": "display_data",
                    "data": {
                        "text/html": "GRANT"
                    },
                    "metadata": {}
                },
                {
                    "output_type": "display_data",
                    "data": {
                        "text/html": "Total execution time: 00:00:00.027"
                    },
                    "metadata": {}
                }
            ],
            "execution_count": 19
        },
        {
            "cell_type": "code",
            "source": [
                "CREATE SCHEMA demo_new AUTHORIZATION azure_pg_admin;\r\n",
                "\r\n",
                "GRANT SELECT ON ALL TABLES IN SCHEMA demo_new TO demo_user;"
            ],
            "metadata": {
                "language": "sql",
                "azdata_cell_guid": "790b0ea0-173f-40e7-b66c-1338e525105a"
            },
            "outputs": [
                {
                    "output_type": "display_data",
                    "data": {
                        "text/html": "GRANT"
                    },
                    "metadata": {}
                },
                {
                    "output_type": "display_data",
                    "data": {
                        "text/html": "Total execution time: 00:00:00.029"
                    },
                    "metadata": {}
                }
            ],
            "execution_count": 22
        },
        {
            "cell_type": "code",
            "source": [
                "CREATE TABLE IF NOT EXISTS demo_new.reviews\r\n",
                "(\r\n",
                "    id integer,\r\n",
                "    listing_id integer,\r\n",
                "    date date,\r\n",
                "    comments text COLLATE pg_catalog.\"default\"\r\n",
                ")\r\n",
                ""
            ],
            "metadata": {
                "language": "sql",
                "azdata_cell_guid": "4bdf4390-5225-4988-adcf-4b9157b303e4"
            },
            "outputs": [
                {
                    "output_type": "display_data",
                    "data": {
                        "text/html": "CREATE TABLE"
                    },
                    "metadata": {}
                },
                {
                    "output_type": "display_data",
                    "data": {
                        "text/html": "Total execution time: 00:00:00.061"
                    },
                    "metadata": {}
                }
            ],
            "execution_count": 23
        },
        {
            "cell_type": "code",
            "source": [
                "SELECT * FROM demo_new.reviews"
            ],
            "metadata": {
                "language": "sql",
                "azdata_cell_guid": "fab89f90-aca6-4451-9fcd-90ebb28c92b4"
            },
            "outputs": [
                {
                    "output_type": "display_data",
                    "data": {
                        "text/html": "(0 row(s) affected)"
                    },
                    "metadata": {}
                },
                {
                    "output_type": "display_data",
                    "data": {
                        "text/html": "Total execution time: 00:00:00.054"
                    },
                    "metadata": {}
                },
                {
                    "output_type": "execute_result",
                    "execution_count": 24,
                    "data": {
                        "application/vnd.dataresource+json": {
                            "schema": {
                                "fields": [
                                    {
                                        "name": "id"
                                    },
                                    {
                                        "name": "listing_id"
                                    },
                                    {
                                        "name": "date"
                                    },
                                    {
                                        "name": "comments"
                                    }
                                ]
                            },
                            "data": []
                        },
                        "text/html": "<table><tr><th>id</th><th>listing_id</th><th>date</th><th>comments</th></tr></table>"
                    },
                    "metadata": {}
                }
            ],
            "execution_count": 24
        }
    ]
}