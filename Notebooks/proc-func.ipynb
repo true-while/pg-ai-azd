{
    "metadata": {
        "kernelspec": {
            "name": "SQL",
            "display_name": "SQL",
            "language": "sql"
        },
        "language_info": {
            "name": "sql",
            "version": ""
        }
    },
    "nbformat_minor": 2,
    "nbformat": 4,
    "cells": [
        {
            "cell_type": "markdown",
            "source": [
                "<span style=\"font-size: 40pt; font-family: &quot;Segoe UI&quot;; font-variant-numeric: normal; font-variant-east-asian: normal; font-variant-alternates: normal; font-variant-position: normal; color: black; letter-spacing: -0.5pt; vertical-align: baseline;\">Procedures and functions in PostgreSQL</span>"
            ],
            "metadata": {
                "azdata_cell_guid": "d2bad456-1380-46a6-994f-a8d89fe315aa"
            },
            "attachments": {}
        },
        {
            "cell_type": "code",
            "source": [
                "CREATE TABLE IF NOT EXISTS mytable\r\n",
                "(\r\n",
                "    a integer,\r\n",
                "    b integer\r\n",
                ")\r\n",
                ""
            ],
            "metadata": {
                "azdata_cell_guid": "567b30fc-e124-4282-9242-b5cf06edce0c",
                "language": "sql"
            },
            "outputs": [
                {
                    "output_type": "display_data",
                    "data": {
                        "text/html": "CREATE TABLE"
                    },
                    "metadata": {}
                },
                {
                    "output_type": "display_data",
                    "data": {
                        "text/html": "Total execution time: 00:00:00.067"
                    },
                    "metadata": {}
                }
            ],
            "execution_count": 1
        },
        {
            "cell_type": "code",
            "source": [
                "CREATE PROCEDURE AB_Insert (a integer, b integer)\r\n",
                "    LANGUAGE SQL\r\n",
                "    AS $$\r\n",
                "        INSERT INTO mytable VALUES (a, b);\r\n",
                "    $$;"
            ],
            "metadata": {
                "azdata_cell_guid": "a3cb996b-0945-4cef-8bbd-43107d4d3f40",
                "language": "sql"
            },
            "outputs": [
                {
                    "output_type": "display_data",
                    "data": {
                        "text/html": "CREATE PROCEDURE"
                    },
                    "metadata": {}
                },
                {
                    "output_type": "display_data",
                    "data": {
                        "text/html": "Total execution time: 00:00:00.035"
                    },
                    "metadata": {}
                }
            ],
            "execution_count": 2
        },
        {
            "cell_type": "code",
            "source": [
                "CALL AB_Insert (7,7)"
            ],
            "metadata": {
                "language": "sql",
                "azdata_cell_guid": "64922e56-f1ea-4249-ab40-70f21aa32d29"
            },
            "outputs": [
                {
                    "output_type": "display_data",
                    "data": {
                        "text/html": "CALL"
                    },
                    "metadata": {}
                },
                {
                    "output_type": "display_data",
                    "data": {
                        "text/html": "Total execution time: 00:00:00.030"
                    },
                    "metadata": {}
                }
            ],
            "execution_count": 3
        },
        {
            "cell_type": "code",
            "source": [
                "CALL AB_Insert (\r\n",
                "    a => 1, \r\n",
                "    b => 2)"
            ],
            "metadata": {
                "language": "sql",
                "azdata_cell_guid": "a5c5724e-d91e-42c4-b88b-57eab1d22fee"
            },
            "outputs": [
                {
                    "output_type": "display_data",
                    "data": {
                        "text/html": "CALL"
                    },
                    "metadata": {}
                },
                {
                    "output_type": "display_data",
                    "data": {
                        "text/html": "Total execution time: 00:00:00.034"
                    },
                    "metadata": {}
                }
            ],
            "execution_count": 8
        },
        {
            "cell_type": "code",
            "source": [
                "SELECT * FROM mytable;"
            ],
            "metadata": {
                "azdata_cell_guid": "56bd6b69-1366-4629-932d-3e250a1a0c34",
                "language": "sql"
            },
            "outputs": [
                {
                    "output_type": "display_data",
                    "data": {
                        "text/html": "(2 row(s) affected)"
                    },
                    "metadata": {}
                },
                {
                    "output_type": "display_data",
                    "data": {
                        "text/html": "Total execution time: 00:00:00.066"
                    },
                    "metadata": {}
                },
                {
                    "output_type": "execute_result",
                    "execution_count": 9,
                    "data": {
                        "application/vnd.dataresource+json": {
                            "schema": {
                                "fields": [
                                    {
                                        "name": "a"
                                    },
                                    {
                                        "name": "b"
                                    }
                                ]
                            },
                            "data": [
                                {
                                    "a": "7",
                                    "b": "7"
                                },
                                {
                                    "a": "1",
                                    "b": "2"
                                }
                            ]
                        },
                        "text/html": "<table><tr><th>a</th><th>b</th></tr><tr><td>7</td><td>7</td></tr><tr><td>1</td><td>2</td></tr></table>"
                    },
                    "metadata": {}
                }
            ],
            "execution_count": 9
        },
        {
            "cell_type": "markdown",
            "source": [
                "# Functions"
            ],
            "metadata": {
                "language": "sql",
                "azdata_cell_guid": "fda23614-7095-4b64-907d-d7da9e9c4059"
            },
            "attachments": {}
        },
        {
            "cell_type": "code",
            "source": [
                "-- String functions\r\n",
                "SELECT SUBSTRING('The quick brown fox', 5, 11);\r\n",
                "-- Math functions\r\n",
                "SELECT FLOOR(3.72);\r\n",
                "-- Date/time functions\r\n",
                "SELECT CURRENT_DATE;"
            ],
            "metadata": {
                "language": "sql",
                "azdata_cell_guid": "a6c3151d-1fdb-4e57-9489-5deaf338b7b2"
            },
            "outputs": [
                {
                    "output_type": "display_data",
                    "data": {
                        "text/html": "(1 row(s) affected)"
                    },
                    "metadata": {}
                },
                {
                    "output_type": "display_data",
                    "data": {
                        "text/html": "(1 row(s) affected)"
                    },
                    "metadata": {}
                },
                {
                    "output_type": "display_data",
                    "data": {
                        "text/html": "(1 row(s) affected)"
                    },
                    "metadata": {}
                },
                {
                    "output_type": "display_data",
                    "data": {
                        "text/html": "Total execution time: 00:00:00.173"
                    },
                    "metadata": {}
                },
                {
                    "output_type": "execute_result",
                    "metadata": {},
                    "execution_count": 5,
                    "data": {
                        "application/vnd.dataresource+json": {
                            "schema": {
                                "fields": [
                                    {
                                        "name": "substring"
                                    }
                                ]
                            },
                            "data": [
                                {
                                    "substring": "quick brown"
                                }
                            ]
                        },
                        "text/html": [
                            "<table>",
                            "<tr><th>substring</th></tr>",
                            "<tr><td>quick brown</td></tr>",
                            "</table>"
                        ]
                    }
                },
                {
                    "output_type": "execute_result",
                    "metadata": {},
                    "execution_count": 5,
                    "data": {
                        "application/vnd.dataresource+json": {
                            "schema": {
                                "fields": [
                                    {
                                        "name": "floor"
                                    }
                                ]
                            },
                            "data": [
                                {
                                    "floor": "3"
                                }
                            ]
                        },
                        "text/html": [
                            "<table>",
                            "<tr><th>floor</th></tr>",
                            "<tr><td>3</td></tr>",
                            "</table>"
                        ]
                    }
                },
                {
                    "output_type": "execute_result",
                    "metadata": {},
                    "execution_count": 5,
                    "data": {
                        "application/vnd.dataresource+json": {
                            "schema": {
                                "fields": [
                                    {
                                        "name": "current_date"
                                    }
                                ]
                            },
                            "data": [
                                {
                                    "current_date": "2025-04-20"
                                }
                            ]
                        },
                        "text/html": [
                            "<table>",
                            "<tr><th>current_date</th></tr>",
                            "<tr><td>2025-04-20</td></tr>",
                            "</table>"
                        ]
                    }
                }
            ],
            "execution_count": 5
        },
        {
            "cell_type": "code",
            "source": [
                "-- create function\r\n",
                "CREATE OR REPLACE FUNCTION\r\n",
                "        a_where (x integer)\r\n",
                "RETURNS integer AS\r\n",
                "$$\r\n",
                "  SELECT b FROM mytable WHERE a = x \r\n",
                "  LIMIT 1\r\n",
                "$$\r\n",
                "LANGUAGE 'sql';  --sql, c, internal, or the name of a user-defined procedural language, for example, plpgsql.\r\n",
                ""
            ],
            "metadata": {
                "language": "sql",
                "azdata_cell_guid": "78f5edfb-2240-4659-9838-dc9a41dfaf6f"
            },
            "outputs": [
                {
                    "output_type": "display_data",
                    "data": {
                        "text/html": "CREATE FUNCTION"
                    },
                    "metadata": {}
                },
                {
                    "output_type": "display_data",
                    "data": {
                        "text/html": "Total execution time: 00:00:00.082"
                    },
                    "metadata": {}
                }
            ],
            "execution_count": 6
        },
        {
            "cell_type": "code",
            "source": [
                "select a_where(1)"
            ],
            "metadata": {
                "language": "sql",
                "azdata_cell_guid": "a27451a3-6f54-435c-b0a9-247dff4b24e2"
            },
            "outputs": [
                {
                    "output_type": "display_data",
                    "data": {
                        "text/html": "(1 row(s) affected)"
                    },
                    "metadata": {}
                },
                {
                    "output_type": "display_data",
                    "data": {
                        "text/html": "Total execution time: 00:00:00.064"
                    },
                    "metadata": {}
                },
                {
                    "output_type": "execute_result",
                    "metadata": {},
                    "execution_count": 8,
                    "data": {
                        "application/vnd.dataresource+json": {
                            "schema": {
                                "fields": [
                                    {
                                        "name": "a_where"
                                    }
                                ]
                            },
                            "data": [
                                {
                                    "a_where": "2"
                                }
                            ]
                        },
                        "text/html": [
                            "<table>",
                            "<tr><th>a_where</th></tr>",
                            "<tr><td>2</td></tr>",
                            "</table>"
                        ]
                    }
                }
            ],
            "execution_count": 8
        }
    ]
}