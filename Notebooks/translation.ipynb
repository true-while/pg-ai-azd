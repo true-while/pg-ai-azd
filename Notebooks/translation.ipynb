{
    "cells": [
        {
            "attachments": {},
            "cell_type": "markdown",
            "metadata": {
                "azdata_cell_guid": "9ca94fdc-605e-4c1a-b857-7e3215a587d3"
            },
            "source": [
                "## Create additional tables for translation"
            ]
        },
        {
            "cell_type": "code",
            "execution_count": 2,
            "metadata": {
                "azdata_cell_guid": "11a8bc78-4b33-407b-8473-25e42f5cbeb8",
                "language": "sql"
            },
            "outputs": [
                {
                    "data": {
                        "text/html": [
                            "(5 row(s) affected)"
                        ]
                    },
                    "metadata": {},
                    "output_type": "display_data"
                },
                {
                    "data": {
                        "text/html": [
                            "Total execution time: 00:00:00.324"
                        ]
                    },
                    "metadata": {},
                    "output_type": "display_data"
                },
                {
                    "data": {
                        "application/vnd.dataresource+json": {
                            "data": [
                                {
                                    "code": "de"
                                },
                                {
                                    "code": "zh-Hans"
                                },
                                {
                                    "code": "hi"
                                },
                                {
                                    "code": "hu"
                                },
                                {
                                    "code": "sw"
                                }
                            ],
                            "schema": {
                                "fields": [
                                    {
                                        "name": "code"
                                    }
                                ]
                            }
                        },
                        "text/html": [
                            "<table>\n",
                            "<tr><th>code</th></tr>\n",
                            "<tr><td>de</td></tr>\n",
                            "<tr><td>zh-Hans</td></tr>\n",
                            "<tr><td>hi</td></tr>\n",
                            "<tr><td>hu</td></tr>\n",
                            "<tr><td>sw</td></tr>\n",
                            "</table>"
                        ]
                    },
                    "execution_count": 2,
                    "metadata": {},
                    "output_type": "execute_result"
                }
            ],
            "source": [
                "SELECT * FROM languages;"
            ]
        },
        {
            "attachments": {},
            "cell_type": "markdown",
            "metadata": {
                "azdata_cell_guid": "0a1d5fcb-3fae-4947-a388-285ccf7d88c6"
            },
            "source": [
                "**Check the extension**"
            ]
        },
        {
            "cell_type": "code",
            "execution_count": 4,
            "metadata": {
                "azdata_cell_guid": "a434538e-e73d-44ca-98c4-f88cd0e5dd5d",
                "language": "sql"
            },
            "outputs": [
                {
                    "data": {
                        "text/html": [
                            "CREATE PROCEDURE"
                        ]
                    },
                    "metadata": {},
                    "output_type": "display_data"
                },
                {
                    "data": {
                        "text/html": [
                            "Total execution time: 00:00:00.253"
                        ]
                    },
                    "metadata": {},
                    "output_type": "display_data"
                }
            ],
            "source": [
                "CREATE OR REPLACE PROCEDURE translate_listing_descriptions(max_num_listings INT DEFAULT 10)\n",
                "LANGUAGE plpgsql\n",
                "AS $$\n",
                "BEGIN\n",
                "    WITH batch_to_load(id, description) AS\n",
                "    (\n",
                "        SELECT id, description\n",
                "        FROM listings l\n",
                "        WHERE NOT EXISTS (SELECT * FROM listing_translations ll WHERE ll.listing_id = l.id)\n",
                "        LIMIT max_num_listings\n",
                "    )\n",
                "    INSERT INTO listing_translations(listing_id, language_code, description)\n",
                "    SELECT b.id, l.code, (unnest(tr.translations)).TEXT\n",
                "    FROM batch_to_load b\n",
                "        CROSS JOIN languages l\n",
                "        CROSS JOIN LATERAL azure_cognitive.translate(b.description, l.code) tr;\n",
                "END;\n",
                "$$;\n"
            ]
        },
        {
            "attachments": {},
            "cell_type": "markdown",
            "metadata": {
                "azdata_cell_guid": "fffec2a2-2797-4314-9d74-651380b22040",
                "language": "sql"
            },
            "source": [
                "**Test translation**"
            ]
        },
        {
            "cell_type": "code",
            "execution_count": 9,
            "metadata": {
                "azdata_cell_guid": "a7679826-7cab-4f8b-9d05-acf5e70db7e5",
                "language": "sql"
            },
            "outputs": [
                {
                    "data": {
                        "text/html": [
                            "(1 row(s) affected)"
                        ]
                    },
                    "metadata": {},
                    "output_type": "display_data"
                },
                {
                    "data": {
                        "text/html": [
                            "Total execution time: 00:00:00.510"
                        ]
                    },
                    "metadata": {},
                    "output_type": "display_data"
                },
                {
                    "data": {
                        "application/vnd.dataresource+json": {
                            "data": [
                                {
                                    "detected_language": "(en,0.64)",
                                    "source_text": "NULL",
                                    "translations": "{\"(fr,\\\"Bonjour, comment vas-tu?\\\",)\"}"
                                }
                            ],
                            "schema": {
                                "fields": [
                                    {
                                        "name": "translations"
                                    },
                                    {
                                        "name": "detected_language"
                                    },
                                    {
                                        "name": "source_text"
                                    }
                                ]
                            }
                        },
                        "text/html": [
                            "<table>\n",
                            "<tr><th>translations</th><th>detected_language</th><th>source_text</th></tr>\n",
                            "<tr><td>{&quot;(fr,\\&quot;Bonjour, comment vas-tu?\\&quot;,)&quot;}</td><td>(en,0.64)</td><td>NULL</td></tr>\n",
                            "</table>"
                        ]
                    },
                    "execution_count": 9,
                    "metadata": {},
                    "output_type": "execute_result"
                }
            ],
            "source": [
                "SELECT *\n",
                "FROM azure_cognitive.translate('Hello, how are you?', 'fr');"
            ]
        },
        {
            "attachments": {},
            "cell_type": "markdown",
            "metadata": {
                "azdata_cell_guid": "c2556576-6e67-4c0e-8d71-4647bab7f45d",
                "language": "sql"
            },
            "source": [
                "**Translate existed reviews**"
            ]
        },
        {
            "cell_type": "code",
            "execution_count": 10,
            "metadata": {
                "azdata_cell_guid": "9503f7e5-450b-4ff5-91c0-335c9ec3a5f1",
                "language": "sql"
            },
            "outputs": [
                {
                    "data": {
                        "text/html": [
                            "CALL"
                        ]
                    },
                    "metadata": {},
                    "output_type": "display_data"
                },
                {
                    "data": {
                        "text/html": [
                            "CALL"
                        ]
                    },
                    "metadata": {},
                    "output_type": "display_data"
                },
                {
                    "data": {
                        "text/html": [
                            "CALL"
                        ]
                    },
                    "metadata": {},
                    "output_type": "display_data"
                },
                {
                    "data": {
                        "text/html": [
                            "Total execution time: 00:00:41.869"
                        ]
                    },
                    "metadata": {},
                    "output_type": "display_data"
                }
            ],
            "source": [
                "CALL translate_listing_descriptions(10);\n",
                "CALL translate_listing_descriptions(10);\n",
                "CALL translate_listing_descriptions(10);"
            ]
        },
        {
            "cell_type": "code",
            "execution_count": 11,
            "metadata": {
                "azdata_cell_guid": "69306518-eb59-45cb-bc26-e7baad802110",
                "language": "sql"
            },
            "outputs": [
                {
                    "data": {
                        "text/html": [
                            "(1 row(s) affected)"
                        ]
                    },
                    "metadata": {},
                    "output_type": "display_data"
                },
                {
                    "data": {
                        "text/html": [
                            "Total execution time: 00:00:00.322"
                        ]
                    },
                    "metadata": {},
                    "output_type": "display_data"
                },
                {
                    "data": {
                        "application/vnd.dataresource+json": {
                            "data": [
                                {
                                    "count": "150"
                                }
                            ],
                            "schema": {
                                "fields": [
                                    {
                                        "name": "count"
                                    }
                                ]
                            }
                        },
                        "text/html": [
                            "<table>\n",
                            "<tr><th>count</th></tr>\n",
                            "<tr><td>150</td></tr>\n",
                            "</table>"
                        ]
                    },
                    "execution_count": 11,
                    "metadata": {},
                    "output_type": "execute_result"
                }
            ],
            "source": [
                "SELECT COUNT(*) FROM listing_translations;"
            ]
        },
        {
            "attachments": {},
            "cell_type": "markdown",
            "metadata": {
                "azdata_cell_guid": "ff0a6d93-0f91-400d-9d45-bdce22cfe1a7",
                "language": "sql"
            },
            "source": [
                "**Create new review and test**"
            ]
        },
        {
            "cell_type": "code",
            "execution_count": 12,
            "metadata": {
                "azdata_cell_guid": "987226be-a152-4db0-a342-e79de999bb52",
                "language": "sql"
            },
            "outputs": [
                {
                    "data": {
                        "text/html": [
                            "CREATE PROCEDURE"
                        ]
                    },
                    "metadata": {},
                    "output_type": "display_data"
                },
                {
                    "data": {
                        "text/html": [
                            "Total execution time: 00:00:00.161"
                        ]
                    },
                    "metadata": {},
                    "output_type": "display_data"
                }
            ],
            "source": [
                "CREATE OR REPLACE PROCEDURE add_listing(id INT, name VARCHAR(255), description TEXT)\n",
                "LANGUAGE plpgsql\n",
                "AS $$\n",
                "DECLARE\n",
                "listing_id INT;\n",
                "BEGIN\n",
                "    INSERT INTO listings(id, name, description)\n",
                "    VALUES(id, name, description);\n",
                "\n",
                "    INSERT INTO listing_translations(listing_id, language_code, description)\n",
                "    SELECT id, l.code, (unnest(tr.translations)).TEXT\n",
                "    FROM languages l\n",
                "        CROSS JOIN LATERAL azure_cognitive.translate(description, l.code) tr;\n",
                "END;\n",
                "$$;"
            ]
        },
        {
            "cell_type": "code",
            "execution_count": 13,
            "metadata": {
                "azdata_cell_guid": "9d0e51b0-0dbc-4d61-afdd-78f2625cc6ab",
                "language": "sql"
            },
            "outputs": [
                {
                    "data": {
                        "text/html": [
                            "CALL"
                        ]
                    },
                    "metadata": {},
                    "output_type": "display_data"
                },
                {
                    "data": {
                        "text/html": [
                            "Total execution time: 00:00:00.773"
                        ]
                    },
                    "metadata": {},
                    "output_type": "display_data"
                }
            ],
            "source": [
                "CALL add_listing(51, 'A Beautiful Home', 'This is a beautiful home in a great location.');"
            ]
        },
        {
            "cell_type": "code",
            "execution_count": 14,
            "metadata": {
                "azdata_cell_guid": "a7af1a1e-72ea-46d7-823e-cdfe66f64fe9",
                "language": "sql"
            },
            "outputs": [
                {
                    "data": {
                        "text/html": [
                            "(5 row(s) affected)"
                        ]
                    },
                    "metadata": {},
                    "output_type": "display_data"
                },
                {
                    "data": {
                        "text/html": [
                            "Total execution time: 00:00:00.370"
                        ]
                    },
                    "metadata": {},
                    "output_type": "display_data"
                },
                {
                    "data": {
                        "application/vnd.dataresource+json": {
                            "data": [
                                {
                                    "description": "This is a beautiful home in a great location.",
                                    "id": "51",
                                    "language_code": "de",
                                    "name": "A Beautiful Home",
                                    "translated_description": "Dies ist ein wunderschönes Zuhause in toller Lage."
                                },
                                {
                                    "description": "This is a beautiful home in a great location.",
                                    "id": "51",
                                    "language_code": "zh-Hans",
                                    "name": "A Beautiful Home",
                                    "translated_description": "这是一个地理位置优越的美丽住宅。"
                                },
                                {
                                    "description": "This is a beautiful home in a great location.",
                                    "id": "51",
                                    "language_code": "hi",
                                    "name": "A Beautiful Home",
                                    "translated_description": "यह एक महान स्थान में एक सुंदर घर है।"
                                },
                                {
                                    "description": "This is a beautiful home in a great location.",
                                    "id": "51",
                                    "language_code": "hu",
                                    "name": "A Beautiful Home",
                                    "translated_description": "Ez egy gyönyörű otthon nagyszerű helyen."
                                },
                                {
                                    "description": "This is a beautiful home in a great location.",
                                    "id": "51",
                                    "language_code": "sw",
                                    "name": "A Beautiful Home",
                                    "translated_description": "Hii ni nyumba nzuri katika eneo zuri."
                                }
                            ],
                            "schema": {
                                "fields": [
                                    {
                                        "name": "id"
                                    },
                                    {
                                        "name": "name"
                                    },
                                    {
                                        "name": "description"
                                    },
                                    {
                                        "name": "language_code"
                                    },
                                    {
                                        "name": "translated_description"
                                    }
                                ]
                            }
                        },
                        "text/html": [
                            "<table>\n",
                            "<tr><th>id</th><th>name</th><th>description</th><th>language_code</th><th>translated_description</th></tr>\n",
                            "<tr><td>51</td><td>A Beautiful Home</td><td>This is a beautiful home in a great location.</td><td>de</td><td>Dies ist ein wunderschönes Zuhause in toller Lage.</td></tr>\n",
                            "<tr><td>51</td><td>A Beautiful Home</td><td>This is a beautiful home in a great location.</td><td>zh-Hans</td><td>这是一个地理位置优越的美丽住宅。</td></tr>\n",
                            "<tr><td>51</td><td>A Beautiful Home</td><td>This is a beautiful home in a great location.</td><td>hi</td><td>यह एक महान स्थान में एक सुंदर घर है।</td></tr>\n",
                            "<tr><td>51</td><td>A Beautiful Home</td><td>This is a beautiful home in a great location.</td><td>hu</td><td>Ez egy gyönyörű otthon nagyszerű helyen.</td></tr>\n",
                            "<tr><td>51</td><td>A Beautiful Home</td><td>This is a beautiful home in a great location.</td><td>sw</td><td>Hii ni nyumba nzuri katika eneo zuri.</td></tr>\n",
                            "</table>"
                        ]
                    },
                    "execution_count": 14,
                    "metadata": {},
                    "output_type": "execute_result"
                }
            ],
            "source": [
                "SELECT l.id, l.name, l.description, lt.language_code, lt.description AS translated_description\n",
                "FROM listing_translations lt\n",
                "    INNER JOIN listings l ON lt.listing_id = l.id\n",
                "WHERE l.name = 'A Beautiful Home';"
            ]
        }
    ],
    "metadata": {
        "kernelspec": {
            "display_name": "SQL",
            "language": "sql",
            "name": "SQL"
        },
        "language_info": {
            "name": "sql",
            "version": ""
        }
    },
    "nbformat": 4,
    "nbformat_minor": 2
}
